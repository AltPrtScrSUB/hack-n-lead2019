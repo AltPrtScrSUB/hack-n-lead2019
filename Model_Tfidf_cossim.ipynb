{
 "cells": [
  {
   "cell_type": "code",
   "execution_count": 284,
   "metadata": {},
   "outputs": [],
   "source": [
    "import pandas as pd"
   ]
  },
  {
   "cell_type": "code",
   "execution_count": 285,
   "metadata": {},
   "outputs": [
    {
     "data": {
      "text/plain": [
       "array(['Notrelated', 'Labor', 'Adult', 'Minor'], dtype=object)"
      ]
     },
     "execution_count": 285,
     "metadata": {},
     "output_type": "execute_result"
    }
   ],
   "source": [
    "# #Masha's data\n",
    "# positives = pd.read_csv('Data/positive_combined_withreal.csv')\n",
    "# cases = pd.read_csv('Data/case_files.csv')\n",
    "\n",
    "# positives['class'] = positives['class'].str.replace(' ','')\n",
    "# cases_clean = pd.DataFrame(data={'class':cases['Case Type'],'complain':cases['Case Summary']})\n",
    "# df=pd.concat([positives,cases_clean], axis= 0)\n",
    "\n",
    "# df['class']=df['class'].apply(lambda x: x[0].upper()+x[1:])\n",
    "# df['class'].unique()\n"
   ]
  },
  {
   "cell_type": "code",
   "execution_count": 301,
   "metadata": {},
   "outputs": [
    {
     "data": {
      "text/html": [
       "<div>\n",
       "<style scoped>\n",
       "    .dataframe tbody tr th:only-of-type {\n",
       "        vertical-align: middle;\n",
       "    }\n",
       "\n",
       "    .dataframe tbody tr th {\n",
       "        vertical-align: top;\n",
       "    }\n",
       "\n",
       "    .dataframe thead th {\n",
       "        text-align: right;\n",
       "    }\n",
       "</style>\n",
       "<table border=\"1\" class=\"dataframe\">\n",
       "  <thead>\n",
       "    <tr style=\"text-align: right;\">\n",
       "      <th></th>\n",
       "      <th>class</th>\n",
       "      <th>complain</th>\n",
       "    </tr>\n",
       "  </thead>\n",
       "  <tbody>\n",
       "    <tr>\n",
       "      <th>0</th>\n",
       "      <td>Adult</td>\n",
       "      <td>The defendants recruited and maintained juveni...</td>\n",
       "    </tr>\n",
       "    <tr>\n",
       "      <th>1</th>\n",
       "      <td>Minor</td>\n",
       "      <td>The defendant forced three adult victims and o...</td>\n",
       "    </tr>\n",
       "    <tr>\n",
       "      <th>2</th>\n",
       "      <td>Notrelated</td>\n",
       "      <td>Create a rotating on call schedule dont keep w...</td>\n",
       "    </tr>\n",
       "    <tr>\n",
       "      <th>3</th>\n",
       "      <td>Adult</td>\n",
       "      <td>The defendants contacted young women predomina...</td>\n",
       "    </tr>\n",
       "    <tr>\n",
       "      <th>4</th>\n",
       "      <td>Minor</td>\n",
       "      <td>Lakireddy Bali Reddy the largest and wealthies...</td>\n",
       "    </tr>\n",
       "  </tbody>\n",
       "</table>\n",
       "</div>"
      ],
      "text/plain": [
       "        class                                           complain\n",
       "0       Adult  The defendants recruited and maintained juveni...\n",
       "1       Minor  The defendant forced three adult victims and o...\n",
       "2  Notrelated  Create a rotating on call schedule dont keep w...\n",
       "3       Adult  The defendants contacted young women predomina...\n",
       "4       Minor  Lakireddy Bali Reddy the largest and wealthies..."
      ]
     },
     "execution_count": 301,
     "metadata": {},
     "output_type": "execute_result"
    }
   ],
   "source": [
    "df = pd.read_csv('Data/all_data_masha.csv').drop(columns = 'Unnamed: 0')\n",
    "df.head()"
   ]
  },
  {
   "cell_type": "code",
   "execution_count": 286,
   "metadata": {},
   "outputs": [],
   "source": [
    "# data_positive = pd.read_csv('positive_combined.csv')\n",
    "# data_positive.head()"
   ]
  },
  {
   "cell_type": "code",
   "execution_count": 287,
   "metadata": {},
   "outputs": [],
   "source": [
    "# data_positive['class'] = 'not_related'\n",
    "# data_positive.head()"
   ]
  },
  {
   "cell_type": "code",
   "execution_count": 288,
   "metadata": {},
   "outputs": [],
   "source": [
    "# data_negative = pd.read_csv('case_files.csv')\n",
    "# data_negative.head()"
   ]
  },
  {
   "cell_type": "code",
   "execution_count": 289,
   "metadata": {},
   "outputs": [],
   "source": [
    "# data_negative_reduced = data_negative[['Case Type', 'Case Summary']]\n",
    "# data_negative_reduced = data_negative_reduced.rename(columns = {'Case Type': 'class', 'Case Summary':'complain'})\n",
    "# data_negative_reduced.head()"
   ]
  },
  {
   "cell_type": "code",
   "execution_count": 290,
   "metadata": {},
   "outputs": [],
   "source": [
    "# data_combined = pd.concat([data_negative_reduced,data_positive], axis = 0)\n",
    "# data_negative_reduced.shape, data_positive.shape, data_combined.shape"
   ]
  },
  {
   "cell_type": "code",
   "execution_count": 291,
   "metadata": {},
   "outputs": [],
   "source": [
    "# data_combined.head()"
   ]
  },
  {
   "cell_type": "code",
   "execution_count": 292,
   "metadata": {},
   "outputs": [],
   "source": [
    "# data_combined['class'].value_counts()"
   ]
  },
  {
   "cell_type": "code",
   "execution_count": 302,
   "metadata": {},
   "outputs": [],
   "source": [
    "data_combined = df"
   ]
  },
  {
   "cell_type": "code",
   "execution_count": 303,
   "metadata": {},
   "outputs": [
    {
     "data": {
      "text/plain": [
       "(1447, 2)"
      ]
     },
     "execution_count": 303,
     "metadata": {},
     "output_type": "execute_result"
    }
   ],
   "source": [
    "data_combined.shape"
   ]
  },
  {
   "cell_type": "code",
   "execution_count": 304,
   "metadata": {},
   "outputs": [
    {
     "data": {
      "text/plain": [
       "(1443, 2)"
      ]
     },
     "execution_count": 304,
     "metadata": {},
     "output_type": "execute_result"
    }
   ],
   "source": [
    "data_combined = data_combined.dropna().reset_index(drop = True)\n",
    "data_combined.shape"
   ]
  },
  {
   "cell_type": "code",
   "execution_count": 305,
   "metadata": {},
   "outputs": [],
   "source": [
    "data_combined.to_csv('Data/data_combined_pos_neg.csv', encoding='utf-8', index=False)\n"
   ]
  },
  {
   "cell_type": "markdown",
   "metadata": {},
   "source": [
    "# Modelling\n",
    "try tfidf first"
   ]
  },
  {
   "cell_type": "code",
   "execution_count": 306,
   "metadata": {},
   "outputs": [],
   "source": [
    "from sklearn.metrics.pairwise import linear_kernel, cosine_similarity\n",
    "import matplotlib.pyplot as plt\n",
    "from time import time\n",
    "from sklearn.feature_extraction.text import TfidfVectorizer, CountVectorizer\n",
    "import numpy as np"
   ]
  },
  {
   "cell_type": "code",
   "execution_count": 307,
   "metadata": {},
   "outputs": [],
   "source": [
    "\n",
    "#t = time()\n",
    "\n",
    "tf = TfidfVectorizer(analyzer='word',ngram_range=(1, 2),min_df=0, stop_words='english')\n",
    "tfidf_matrix = tf.fit_transform(data_combined['complain'])\n",
    "\n",
    "#print(time() - t)"
   ]
  },
  {
   "cell_type": "code",
   "execution_count": 308,
   "metadata": {},
   "outputs": [
    {
     "data": {
      "text/plain": [
       "(1443, 24302)"
      ]
     },
     "execution_count": 308,
     "metadata": {},
     "output_type": "execute_result"
    }
   ],
   "source": [
    "tfidf_matrix.shape"
   ]
  },
  {
   "cell_type": "code",
   "execution_count": 388,
   "metadata": {},
   "outputs": [],
   "source": [
    "#type your complain or load a file:\n",
    "text0 = 'I like sex with people and also being slave'\n",
    "\n",
    "text1 = 'When my husband became very sick and couldn’t work, I used an employment agency to find me work abroad. I was sent to Qatar, but the family were cheating me, paying me less than agreed in my contract and refusing to give me a day off. I called the agency in the Philippines for help, but they never answered. I had to send money back home to pay for food, school fees and medicine. I fought with my employer about my salary, but he would say Your contract is just a piece of paper'\n",
    "\n",
    "text2 = 'I worked 12-hour shifts and finished every day at 6pm, the same time that the gang curfew in our city came into effect. There are two main gangs in the area, and anyone on the streets after the curfew becomes a target. Every day I thought might be my last. One evening, my co-worker and I were walking to the bus stop when three gang members stopped and said we’d have to sell sex and drugs for them. “We’re not asking you,” they said. “We’re giving you an order.” They let us go, but I was terrified. The next night after work, they were there, waiting for us. “Time’s up,” they said, and they forced us into a car at gunpoint'\n",
    "\n",
    "text3 = 'One of my friends in the village said he and a few others were leaving to find work. The next day we all got a taxi and headed for Thailand. We were met by a man who said we could work on his cassava farm, earning $130 (£99) a month each, with room and board included. We worked seven days a week, morning until night, for a month, until one evening a Thai man asked how much we were earning. He offered us $200 a month to work on a construction site, but said we’d have to move to Thailand We were confused. Weren’t we already in Thailand? It turned out we were still in Cambodia, and the farmer had already fled without giving us any wages. We were left with no choice but to accept the deal and smuggle ourselves over the border. The man said we’d be charged for being driven to the construction site, but that it could be deducted from our first month’s wages. It was a long, uncomfortable drive in a pickup, and when we finally stopped, we saw that we weren’t at a construction site, but a busy sea port. The broker said the building site had closed, so he’d arranged for us to work on a fishing boat instead'\n",
    "\n",
    "text4 = 'On paper I was a labourer but in reality I did not work as one. It was a place that raised pigs to support the People’s Army and shock brigades. It was supposed to raise pigs. But no one actually raised pigs there. There was no space to raise pigs there and no feed for them either. Since the labourers cannot work, they are required to pay a certain amount of money instead. Every month the labourers must give 2kg of pork to the management office.'\n",
    "\n",
    "text5 = 'We saw people return from Europe rich. A woman said she would give me work in a Nigerian restaurant in Italy. When I arrived I was told I had to pay back a £40,000 debt before I could leave. They said they would kill me if I didn’t work as a prostitute. The work was so dangerous. I was stabbed twice. I managed to leave, and now I work to help other women escape. These traffickers take everything from you – all that makes you human.'"
   ]
  },
  {
   "cell_type": "code",
   "execution_count": 389,
   "metadata": {},
   "outputs": [],
   "source": [
    "complain_input = text5"
   ]
  },
  {
   "cell_type": "code",
   "execution_count": 390,
   "metadata": {},
   "outputs": [],
   "source": [
    "try:\n",
    "    complain_text = complain_input\n",
    "\n",
    "except NameError:\n",
    "    file_ = open(\"test_complaint.txt\",\"r\") \n",
    "    complain_text = file_.read()\n",
    "    file_.close()"
   ]
  },
  {
   "cell_type": "code",
   "execution_count": null,
   "metadata": {},
   "outputs": [],
   "source": []
  },
  {
   "cell_type": "code",
   "execution_count": 391,
   "metadata": {},
   "outputs": [
    {
     "data": {
      "text/plain": [
       "'We saw people return from Europe rich. A woman said she would give me work in a Nigerian restaurant in Italy. When I arrived I was told I had to pay back a £40,000 debt before I could leave. They said they would kill me if I didn’t work as a prostitute. The work was so dangerous. I was stabbed twice. I managed to leave, and now I work to help other women escape. These traffickers take everything from you – all that makes you human.'"
      ]
     },
     "execution_count": 391,
     "metadata": {},
     "output_type": "execute_result"
    }
   ],
   "source": [
    "complain_text "
   ]
  },
  {
   "cell_type": "code",
   "execution_count": 392,
   "metadata": {},
   "outputs": [
    {
     "data": {
      "text/plain": [
       "(1, 24302)"
      ]
     },
     "execution_count": 392,
     "metadata": {},
     "output_type": "execute_result"
    }
   ],
   "source": [
    "tfidf_cv_vector = tf.transform([complain_text])\n",
    "tfidf_cv_vector.shape"
   ]
  },
  {
   "cell_type": "code",
   "execution_count": 393,
   "metadata": {},
   "outputs": [],
   "source": [
    "cosine_sim = cosine_similarity(tfidf_cv_vector, tfidf_matrix)"
   ]
  },
  {
   "cell_type": "code",
   "execution_count": 394,
   "metadata": {},
   "outputs": [],
   "source": [
    "n = len(data_combined)\n",
    "most_similar_situation =  data_combined.loc[np.argsort(-cosine_sim[0])[:n]]"
   ]
  },
  {
   "cell_type": "code",
   "execution_count": 397,
   "metadata": {},
   "outputs": [
    {
     "data": {
      "text/html": [
       "<div>\n",
       "<style scoped>\n",
       "    .dataframe tbody tr th:only-of-type {\n",
       "        vertical-align: middle;\n",
       "    }\n",
       "\n",
       "    .dataframe tbody tr th {\n",
       "        vertical-align: top;\n",
       "    }\n",
       "\n",
       "    .dataframe thead th {\n",
       "        text-align: right;\n",
       "    }\n",
       "</style>\n",
       "<table border=\"1\" class=\"dataframe\">\n",
       "  <thead>\n",
       "    <tr style=\"text-align: right;\">\n",
       "      <th></th>\n",
       "      <th>class</th>\n",
       "      <th>complain</th>\n",
       "    </tr>\n",
       "  </thead>\n",
       "  <tbody>\n",
       "    <tr>\n",
       "      <th>579</th>\n",
       "      <td>Notrelated</td>\n",
       "      <td>There are no benefits no maternity leave You w...</td>\n",
       "    </tr>\n",
       "    <tr>\n",
       "      <th>752</th>\n",
       "      <td>Minor</td>\n",
       "      <td>The defendant forced a minor female victim to ...</td>\n",
       "    </tr>\n",
       "    <tr>\n",
       "      <th>986</th>\n",
       "      <td>Minor</td>\n",
       "      <td>Defendants smuggled three teenagers from Mexic...</td>\n",
       "    </tr>\n",
       "    <tr>\n",
       "      <th>493</th>\n",
       "      <td>Minor</td>\n",
       "      <td>Defendants smuggled three teenagers from Mexic...</td>\n",
       "    </tr>\n",
       "    <tr>\n",
       "      <th>57</th>\n",
       "      <td>Labor</td>\n",
       "      <td>One day they just said you know if youre in th...</td>\n",
       "    </tr>\n",
       "    <tr>\n",
       "      <th>131</th>\n",
       "      <td>Notrelated</td>\n",
       "      <td>All the departments work next to each other Bu...</td>\n",
       "    </tr>\n",
       "    <tr>\n",
       "      <th>120</th>\n",
       "      <td>Adult</td>\n",
       "      <td>In 2005 the defendant began smuggling Latin Am...</td>\n",
       "    </tr>\n",
       "    <tr>\n",
       "      <th>109</th>\n",
       "      <td>Minor</td>\n",
       "      <td>In 2005 the defendant began smuggling Latin Am...</td>\n",
       "    </tr>\n",
       "    <tr>\n",
       "      <th>953</th>\n",
       "      <td>Adult</td>\n",
       "      <td>The defendant worked with two others to smuggl...</td>\n",
       "    </tr>\n",
       "    <tr>\n",
       "      <th>694</th>\n",
       "      <td>Notrelated</td>\n",
       "      <td>Dangerous job hazardous chemicalsnan</td>\n",
       "    </tr>\n",
       "  </tbody>\n",
       "</table>\n",
       "</div>"
      ],
      "text/plain": [
       "          class                                           complain\n",
       "579  Notrelated  There are no benefits no maternity leave You w...\n",
       "752       Minor  The defendant forced a minor female victim to ...\n",
       "986       Minor  Defendants smuggled three teenagers from Mexic...\n",
       "493       Minor  Defendants smuggled three teenagers from Mexic...\n",
       "57        Labor  One day they just said you know if youre in th...\n",
       "131  Notrelated  All the departments work next to each other Bu...\n",
       "120       Adult  In 2005 the defendant began smuggling Latin Am...\n",
       "109       Minor  In 2005 the defendant began smuggling Latin Am...\n",
       "953       Adult  The defendant worked with two others to smuggl...\n",
       "694  Notrelated               Dangerous job hazardous chemicalsnan"
      ]
     },
     "execution_count": 397,
     "metadata": {},
     "output_type": "execute_result"
    }
   ],
   "source": [
    "most_similar_situation.head(10)"
   ]
  },
  {
   "cell_type": "code",
   "execution_count": 398,
   "metadata": {},
   "outputs": [],
   "source": [
    "#most_similar_situation['class'].value_counts()"
   ]
  },
  {
   "cell_type": "code",
   "execution_count": 400,
   "metadata": {},
   "outputs": [
    {
     "data": {
      "text/plain": [
       "['Minor',\n",
       " 'The defendant forced a minor female victim to engage in commercial sex acts The defendant threatened the victim and told the victim he would kill her if she ever tried to leave ']"
      ]
     },
     "execution_count": 400,
     "metadata": {},
     "output_type": "execute_result"
    }
   ],
   "source": [
    "list(most_similar_situation.iloc[1])"
   ]
  },
  {
   "cell_type": "code",
   "execution_count": null,
   "metadata": {},
   "outputs": [],
   "source": []
  },
  {
   "cell_type": "code",
   "execution_count": null,
   "metadata": {},
   "outputs": [],
   "source": []
  }
 ],
 "metadata": {
  "kernelspec": {
   "display_name": "Python 3",
   "language": "python",
   "name": "python3"
  },
  "language_info": {
   "codemirror_mode": {
    "name": "ipython",
    "version": 3
   },
   "file_extension": ".py",
   "mimetype": "text/x-python",
   "name": "python",
   "nbconvert_exporter": "python",
   "pygments_lexer": "ipython3",
   "version": "3.7.4"
  }
 },
 "nbformat": 4,
 "nbformat_minor": 2
}
