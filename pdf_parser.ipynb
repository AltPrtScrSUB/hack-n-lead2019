{
 "cells": [
  {
   "cell_type": "code",
   "execution_count": 82,
   "metadata": {},
   "outputs": [
    {
     "name": "stdout",
     "output_type": "stream",
     "text": [
      "/media/windows/1PropulsionAcademy/2019-10_HacknLead Preparation/Tools\n"
     ]
    }
   ],
   "source": [
    "#!pip install --pre python-docx\n",
    "#!pip install pdfminer.six==20160614\n",
    "#!pip install docx2txt\n",
    "!pwd"
   ]
  },
  {
   "cell_type": "code",
   "execution_count": 70,
   "metadata": {},
   "outputs": [],
   "source": [
    "path_to_example_pdf = '../challenge/case_files/US v Doss Article.pdf' #test1.pdf'"
   ]
  },
  {
   "cell_type": "code",
   "execution_count": 71,
   "metadata": {},
   "outputs": [],
   "source": [
    "#PDF parsing libraries\n",
    "from pdfminer.converter import TextConverter\n",
    "from pdfminer.pdfinterp import PDFPageInterpreter\n",
    "from pdfminer.pdfinterp import PDFResourceManager\n",
    "from pdfminer.layout import LAParams\n",
    "from pdfminer.pdfpage import PDFPage\n",
    "import io"
   ]
  },
  {
   "cell_type": "code",
   "execution_count": 72,
   "metadata": {},
   "outputs": [],
   "source": [
    "#doc and docx parsing libraries\n",
    "import docx2txt\n",
    "import subprocess\n"
   ]
  },
  {
   "cell_type": "code",
   "execution_count": 73,
   "metadata": {},
   "outputs": [],
   "source": [
    "import os\n",
    "\n",
    "\n",
    "def parse_pdf(pdf_path):\n",
    "    \n",
    "    \"\"\"\n",
    "    :param filepath: path to document\n",
    "    :return: string containing the parsed text\n",
    "    \"\"\"\n",
    "    \n",
    "    def extract_text_from_pdf(pdf_path):\n",
    "        with open(pdf_path, 'rb') as fh:\n",
    "            # iterate over all pages of PDF document\n",
    "            for page in PDFPage.get_pages(fh, caching=True, check_extractable=True):\n",
    "                # creating a resoure manager\n",
    "                resource_manager = PDFResourceManager()\n",
    "\n",
    "                # create a file handle\n",
    "                fake_file_handle = io.StringIO()\n",
    "\n",
    "                # creating a text converter object\n",
    "                converter = TextConverter(\n",
    "                                    resource_manager, \n",
    "                                    fake_file_handle, \n",
    "                                    codec='utf-8', \n",
    "                                    laparams=LAParams()\n",
    "                            )\n",
    "\n",
    "                # creating a page interpreter\n",
    "                page_interpreter = PDFPageInterpreter(\n",
    "                                    resource_manager, \n",
    "                                    converter\n",
    "                                )\n",
    "\n",
    "                # process current page\n",
    "                page_interpreter.process_page(page)\n",
    "\n",
    "                # extract text\n",
    "                text = fake_file_handle.getvalue()\n",
    "                yield text\n",
    "\n",
    "                # close open handles\n",
    "                converter.close()\n",
    "                fake_file_handle.close()\n",
    "\n",
    "\n",
    "    # calling above function and extracting text\n",
    "    text = ''\n",
    "    for page in extract_text_from_pdf(pdf_path):\n",
    "        text += ' ' + page\n",
    "    text = text.replace('\\n', '')\n",
    "\n",
    "    #raise NotImplementedError\n",
    "\n",
    "    return text\n",
    "\n",
    "\n",
    "def parse_docx(doc_path):\n",
    "\n",
    "    \"\"\"\n",
    "    :param filepath: path to document\n",
    "    :return: string containing the parsed text\n",
    "    \"\"\"\n",
    "      \n",
    "    temp = docx2txt.process(doc_path)\n",
    "    text = [line.replace('\\t', ' ') for line in temp.split('\\n') if line]\n",
    "       \n",
    "    #raise NotImplementedError\n",
    "\n",
    "    return ' '.join(text)\n",
    "\n",
    "\n",
    "def convert_doc_to_docx(filepath):\n",
    "\n",
    "    \"\"\"\n",
    "    :param filepath: path to document\n",
    "    :return: string containing the path of the converted document\n",
    "    \"\"\"\n",
    "    \n",
    "    subprocess.call(['soffice', '--headless', '--convert-to', 'docx', filepath, '--outdir', os.path.dirname(filepath)])\n",
    "    path_docx = filepath + 'x'\n",
    "    \n",
    "    #raise NotImplementedError(\"Could not convert the file to .docx\")\n",
    "\n",
    "    return path_docx"
   ]
  },
  {
   "cell_type": "code",
   "execution_count": 74,
   "metadata": {},
   "outputs": [],
   "source": [
    "def parse_file(filepath):\n",
    "\n",
    "    \"\"\"\n",
    "    :param filepath: path to document\n",
    "    :return: string containing the parsed text\n",
    "    \"\"\"\n",
    "\n",
    "    filename_w_ext = os.path.basename(filepath)\n",
    "    filename, file_extension = os.path.splitext(filename_w_ext)\n",
    "    \n",
    "    if file_extension == \".pdf\":\n",
    "        text = parse_pdf(filepath)\n",
    "\n",
    "    elif file_extension == \".docx\":\n",
    "         text = parse_docx(filepath)\n",
    "\n",
    "    elif file_extension == \".doc\":\n",
    "        filepath_docx = convert_doc_to_docx(filepath)\n",
    "        text = parse_docx(filepath_docx)\n",
    "\n",
    "    else:\n",
    "        raise NotImplementedError(\"Unknown file format.\")\n",
    "    return text"
   ]
  },
  {
   "cell_type": "code",
   "execution_count": 94,
   "metadata": {},
   "outputs": [
    {
     "name": "stdout",
     "output_type": "stream",
     "text": [
      "/media/windows/1PropulsionAcademy/2019-10_HacknLead Preparation/Tools\n"
     ]
    }
   ],
   "source": [
    "!pwd"
   ]
  },
  {
   "cell_type": "code",
   "execution_count": 124,
   "metadata": {},
   "outputs": [
    {
     "name": "stdout",
     "output_type": "stream",
     "text": [
      "can not parseUS v. Jimenez-Calderon - Antonia Judgement.pdf\n"
     ]
    }
   ],
   "source": [
    "cases = []\n",
    "for filename in os.listdir('/media/windows/1PropulsionAcademy/2019-10_HacknLead Preparation/challenge/case_files/'):\n",
    "    if filename.endswith('.pdf'):\n",
    "    #if __name__ == \"__main__\":\n",
    "        try:\n",
    "            example_pdf_path = '/media/windows/1PropulsionAcademy/2019-10_HacknLead Preparation/challenge/case_files/' + filename\n",
    "            text_case = parse_file(example_pdf_path)\n",
    "        except:  \n",
    "            print('can not parse' + filename)\n",
    "    cases.append(text_case)"
   ]
  },
  {
   "cell_type": "code",
   "execution_count": 99,
   "metadata": {},
   "outputs": [],
   "source": [
    "name = example_pdf_path.split('/')[-1]"
   ]
  },
  {
   "cell_type": "code",
   "execution_count": 125,
   "metadata": {},
   "outputs": [],
   "source": [
    "import pandas as pd"
   ]
  },
  {
   "cell_type": "code",
   "execution_count": 126,
   "metadata": {},
   "outputs": [],
   "source": [
    "#cases[0]"
   ]
  },
  {
   "cell_type": "code",
   "execution_count": 131,
   "metadata": {},
   "outputs": [],
   "source": [
    "cases_pd = pd.DataFrame(data = cases)"
   ]
  },
  {
   "cell_type": "code",
   "execution_count": 134,
   "metadata": {},
   "outputs": [
    {
     "data": {
      "text/html": [
       "<div>\n",
       "<style scoped>\n",
       "    .dataframe tbody tr th:only-of-type {\n",
       "        vertical-align: middle;\n",
       "    }\n",
       "\n",
       "    .dataframe tbody tr th {\n",
       "        vertical-align: top;\n",
       "    }\n",
       "\n",
       "    .dataframe thead th {\n",
       "        text-align: right;\n",
       "    }\n",
       "</style>\n",
       "<table border=\"1\" class=\"dataframe\">\n",
       "  <thead>\n",
       "    <tr style=\"text-align: right;\">\n",
       "      <th></th>\n",
       "      <th>case records</th>\n",
       "    </tr>\n",
       "  </thead>\n",
       "  <tbody>\n",
       "    <tr>\n",
       "      <th>0</th>\n",
       "      <td>Toledo Man Sentenced to More than 10 Years in...</td>\n",
       "    </tr>\n",
       "    <tr>\n",
       "      <th>1</th>\n",
       "      <td>6/6/2018Area man charged with sex trafﬁcking ...</td>\n",
       "    </tr>\n",
       "    <tr>\n",
       "      <th>2</th>\n",
       "      <td>655585 SGOXXX10.1177/2158244016655585SAGE Ope...</td>\n",
       "    </tr>\n",
       "    <tr>\n",
       "      <th>3</th>\n",
       "      <td>Servant was called an aunt, witness testifies...</td>\n",
       "    </tr>\n",
       "    <tr>\n",
       "      <th>4</th>\n",
       "      <td>Nevada Man Sentenced to Life in Prison on Cha...</td>\n",
       "    </tr>\n",
       "    <tr>\n",
       "      <th>5</th>\n",
       "      <td>Toledo Man Sentenced to More than 10 Years in...</td>\n",
       "    </tr>\n",
       "    <tr>\n",
       "      <th>6</th>\n",
       "      <td>Toledo Man Sentenced to More than 10 Years in...</td>\n",
       "    </tr>\n",
       "  </tbody>\n",
       "</table>\n",
       "</div>"
      ],
      "text/plain": [
       "                                        case records\n",
       "0   Toledo Man Sentenced to More than 10 Years in...\n",
       "1   6/6/2018Area man charged with sex trafﬁcking ...\n",
       "2   655585 SGOXXX10.1177/2158244016655585SAGE Ope...\n",
       "3   Servant was called an aunt, witness testifies...\n",
       "4   Nevada Man Sentenced to Life in Prison on Cha...\n",
       "5   Toledo Man Sentenced to More than 10 Years in...\n",
       "6   Toledo Man Sentenced to More than 10 Years in..."
      ]
     },
     "execution_count": 134,
     "metadata": {},
     "output_type": "execute_result"
    }
   ],
   "source": [
    "cases_pd.rename(columns={0:'case records'})"
   ]
  },
  {
   "cell_type": "code",
   "execution_count": 137,
   "metadata": {},
   "outputs": [],
   "source": [
    "cases_pd.to_csv('Data/court_cases_pdfs.csv', encoding='utf-8', index=False)\n",
    "#df.to_csv('Data Scientist jobs.csv', encoding='utf-8', index=False)\n"
   ]
  },
  {
   "cell_type": "code",
   "execution_count": null,
   "metadata": {},
   "outputs": [],
   "source": []
  }
 ],
 "metadata": {
  "kernelspec": {
   "display_name": "Python 3",
   "language": "python",
   "name": "python3"
  },
  "language_info": {
   "codemirror_mode": {
    "name": "ipython",
    "version": 3
   },
   "file_extension": ".py",
   "mimetype": "text/x-python",
   "name": "python",
   "nbconvert_exporter": "python",
   "pygments_lexer": "ipython3",
   "version": "3.7.4"
  },
  "toc": {
   "base_numbering": 1,
   "nav_menu": {},
   "number_sections": true,
   "sideBar": true,
   "skip_h1_title": false,
   "title_cell": "Table of Contents",
   "title_sidebar": "Contents",
   "toc_cell": false,
   "toc_position": {},
   "toc_section_display": true,
   "toc_window_display": false
  },
  "varInspector": {
   "cols": {
    "lenName": 16,
    "lenType": 16,
    "lenVar": 40
   },
   "kernels_config": {
    "python": {
     "delete_cmd_postfix": "",
     "delete_cmd_prefix": "del ",
     "library": "var_list.py",
     "varRefreshCmd": "print(var_dic_list())"
    },
    "r": {
     "delete_cmd_postfix": ") ",
     "delete_cmd_prefix": "rm(",
     "library": "var_list.r",
     "varRefreshCmd": "cat(var_dic_list()) "
    }
   },
   "types_to_exclude": [
    "module",
    "function",
    "builtin_function_or_method",
    "instance",
    "_Feature"
   ],
   "window_display": false
  }
 },
 "nbformat": 4,
 "nbformat_minor": 2
}
