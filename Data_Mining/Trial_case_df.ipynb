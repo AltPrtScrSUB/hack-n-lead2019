{
 "cells": [
  {
   "cell_type": "code",
   "execution_count": 15,
   "metadata": {
    "ExecuteTime": {
     "end_time": "2019-11-02T11:52:34.176231Z",
     "start_time": "2019-11-02T11:52:34.171611Z"
    }
   },
   "outputs": [],
   "source": [
    "import io\n",
    "import requests\n",
    "import pandas as pd\n",
    "from bs4 import BeautifulSoup"
   ]
  },
  {
   "cell_type": "code",
   "execution_count": 2,
   "metadata": {
    "ExecuteTime": {
     "end_time": "2019-11-02T11:30:31.084579Z",
     "start_time": "2019-11-02T11:30:31.080450Z"
    }
   },
   "outputs": [],
   "source": [
    "first_part = 'http://www.humantraffickingdata.org/search?commit=Search&defendants_statutes_any_all=all&page='\n",
    "second_part = '&q%5Badult_sex_true%5D=0&q%5Bcase_name_cont%5D=&q%5Bcase_number_cont%5D=&q%5Bdefendants_arrest_age%5D=12%2C80&q%5Bdefendants_count%5D=0%2C100&q%5Bdefendants_country_of_origin_cont_any%5D%5B%5D=&q%5Bdefendants_first_name_or_defendants_last_name_matches%5D=&q%5Bdefendants_gender_cont_any%5D%5B%5D=&q%5Bdefendants_race_cont_any%5D%5B%5D=&q%5Bdefendants_restitution_gt_zero%5D=0&q%5Bdefendants_s_1028_true%5D=0&q%5Bdefendants_s_1324_true%5D=0&q%5Bdefendants_s_1328_true%5D=0&q%5Bdefendants_s_1351_true%5D=0&q%5Bdefendants_s_1425_true%5D=0&q%5Bdefendants_s_1512_true%5D=0&q%5Bdefendants_s_1546_true%5D=0&q%5Bdefendants_s_1581_to_1588_true%5D=0&q%5Bdefendants_s_1589_true%5D=0&q%5Bdefendants_s_1590_true%5D=0&q%5Bdefendants_s_1591_true%5D=0&q%5Bdefendants_s_1592_true%5D=0&q%5Bdefendants_s_1593_true%5D=0&q%5Bdefendants_s_1594_true%5D=0&q%5Bdefendants_s_1961_to_1968_true%5D=0&q%5Bdefendants_s_2251_true%5D=0&q%5Bdefendants_s_2252_true%5D=0&q%5Bdefendants_s_2260_true%5D=0&q%5Bdefendants_s_2421_to_2424_true%5D=0&q%5Bdefendants_total_sentence%5D=0%2C1200&q%5Bfed_district_number_in%5D%5B%5D=&q%5Blabor_true%5D=1&q%5Bminor_sex_true%5D=0&q%5Bnumber_victims_female_gt_zero%5D=0&q%5Bnumber_victims_foreign_gt_zero%5D=0&q%5Bnumber_victims_male_gt_zero%5D=0&q%5Bnumber_victims_minor_gt_zero%5D=0&q%5Bstart_year%5D=2000%2C2020&q%5Bstate_cont_any%5D%5B%5D=&q%5Btype_of_labor_cont_any%5D%5B%5D=&q%5Btype_of_sex_cont_any%5D%5B%5D=&q%5Bvictim_countries_name_cont_any%5D%5B%5D=&q%5Bvictims_count%5D=0%2C1000&utf8=%E2%9C%93'"
   ]
  },
  {
   "cell_type": "code",
   "execution_count": 3,
   "metadata": {
    "ExecuteTime": {
     "end_time": "2019-11-02T11:30:31.691496Z",
     "start_time": "2019-11-02T11:30:31.686830Z"
    }
   },
   "outputs": [],
   "source": [
    "labor_df = pd.DataFrame()"
   ]
  },
  {
   "cell_type": "code",
   "execution_count": 4,
   "metadata": {
    "ExecuteTime": {
     "end_time": "2019-11-02T11:30:41.658870Z",
     "start_time": "2019-11-02T11:30:32.239189Z"
    }
   },
   "outputs": [],
   "source": [
    "for i in range(1,6):\n",
    "    url = first_part + str(i) + second_part\n",
    "    \n",
    "    r = requests.get(url)\n",
    "    if r.status_code == 200:\n",
    "        labor_df=pd.concat([labor_df,pd.read_html(url)[0]],ignore_index=True)"
   ]
  },
  {
   "cell_type": "code",
   "execution_count": 5,
   "metadata": {
    "ExecuteTime": {
     "end_time": "2019-11-02T11:30:56.875759Z",
     "start_time": "2019-11-02T11:30:56.854503Z"
    }
   },
   "outputs": [
    {
     "data": {
      "text/html": [
       "<div>\n",
       "<style scoped>\n",
       "    .dataframe tbody tr th:only-of-type {\n",
       "        vertical-align: middle;\n",
       "    }\n",
       "\n",
       "    .dataframe tbody tr th {\n",
       "        vertical-align: top;\n",
       "    }\n",
       "\n",
       "    .dataframe thead th {\n",
       "        text-align: right;\n",
       "    }\n",
       "</style>\n",
       "<table border=\"1\" class=\"dataframe\">\n",
       "  <thead>\n",
       "    <tr style=\"text-align: right;\">\n",
       "      <th></th>\n",
       "      <th>View Case Files</th>\n",
       "      <th>Case Name</th>\n",
       "      <th>Case Number</th>\n",
       "      <th># of Defendants</th>\n",
       "      <th># of Victims</th>\n",
       "    </tr>\n",
       "  </thead>\n",
       "  <tbody>\n",
       "    <tr>\n",
       "      <th>92</th>\n",
       "      <td>Case Files</td>\n",
       "      <td>USA v. Alrowaishan et al</td>\n",
       "      <td>1:03-cr-00311-TSE</td>\n",
       "      <td>2</td>\n",
       "      <td>1.0</td>\n",
       "    </tr>\n",
       "    <tr>\n",
       "      <th>93</th>\n",
       "      <td>Case Files</td>\n",
       "      <td>USA v. Hui</td>\n",
       "      <td>1:16-cr-00221-RBK-1</td>\n",
       "      <td>1</td>\n",
       "      <td>3.0</td>\n",
       "    </tr>\n",
       "    <tr>\n",
       "      <th>94</th>\n",
       "      <td>Case Files</td>\n",
       "      <td>USA v. Zavala et al</td>\n",
       "      <td>2:04-cr-00962-SJF-1</td>\n",
       "      <td>2</td>\n",
       "      <td>1.0</td>\n",
       "    </tr>\n",
       "    <tr>\n",
       "      <th>95</th>\n",
       "      <td>Case Files</td>\n",
       "      <td>USA v. Felipe Dos Santos et al</td>\n",
       "      <td>1:05-cr-00613-TWT-JFK</td>\n",
       "      <td>3</td>\n",
       "      <td>4.0</td>\n",
       "    </tr>\n",
       "    <tr>\n",
       "      <th>96</th>\n",
       "      <td>Case Files</td>\n",
       "      <td>USA v. Leon-Aldana et al</td>\n",
       "      <td>3:07-cr-00035-L</td>\n",
       "      <td>4</td>\n",
       "      <td>9.0</td>\n",
       "    </tr>\n",
       "    <tr>\n",
       "      <th>97</th>\n",
       "      <td>Case Files</td>\n",
       "      <td>USA v. Li</td>\n",
       "      <td>1:16-cr-00583-RBK-1</td>\n",
       "      <td>1</td>\n",
       "      <td>3.0</td>\n",
       "    </tr>\n",
       "    <tr>\n",
       "      <th>98</th>\n",
       "      <td>Case Files</td>\n",
       "      <td>USA v. Rojas et al</td>\n",
       "      <td>4:11-cr-00116</td>\n",
       "      <td>10</td>\n",
       "      <td>23.0</td>\n",
       "    </tr>\n",
       "    <tr>\n",
       "      <th>99</th>\n",
       "      <td>Case Files</td>\n",
       "      <td>USA v. Bello</td>\n",
       "      <td>1:10-cr-00397-WSD-LTW</td>\n",
       "      <td>1</td>\n",
       "      <td>2.0</td>\n",
       "    </tr>\n",
       "    <tr>\n",
       "      <th>100</th>\n",
       "      <td>Case Files</td>\n",
       "      <td>USA v. Notario et al</td>\n",
       "      <td>2:06-cr-00637-SDW</td>\n",
       "      <td>4</td>\n",
       "      <td>20.0</td>\n",
       "    </tr>\n",
       "    <tr>\n",
       "      <th>101</th>\n",
       "      <td>Case Files</td>\n",
       "      <td>USA v. Lee, et al</td>\n",
       "      <td>1:01-cr-00132-SOM-BMK</td>\n",
       "      <td>3</td>\n",
       "      <td>21.0</td>\n",
       "    </tr>\n",
       "    <tr>\n",
       "      <th>102</th>\n",
       "      <td>Case Files</td>\n",
       "      <td>USA v. Satia, et al</td>\n",
       "      <td>8:00-cr-00590-AW</td>\n",
       "      <td>4</td>\n",
       "      <td>2.0</td>\n",
       "    </tr>\n",
       "    <tr>\n",
       "      <th>103</th>\n",
       "      <td>Case Files</td>\n",
       "      <td>USA v. Phan et al</td>\n",
       "      <td>1:08-cr-00436-SHR</td>\n",
       "      <td>3</td>\n",
       "      <td>2.0</td>\n",
       "    </tr>\n",
       "    <tr>\n",
       "      <th>104</th>\n",
       "      <td>Case Files</td>\n",
       "      <td>USA v. Rosales Martinez et al</td>\n",
       "      <td>3:05-cr-00148-JAP</td>\n",
       "      <td>10</td>\n",
       "      <td>25.0</td>\n",
       "    </tr>\n",
       "    <tr>\n",
       "      <th>105</th>\n",
       "      <td>Case Files</td>\n",
       "      <td>USA v. Kenit et al</td>\n",
       "      <td>3:11-cr-05182-RJB</td>\n",
       "      <td>2</td>\n",
       "      <td>1.0</td>\n",
       "    </tr>\n",
       "    <tr>\n",
       "      <th>106</th>\n",
       "      <td>Case Files</td>\n",
       "      <td>USA v. Navarrete et al</td>\n",
       "      <td>2:07-cr-00136-JES-DNF</td>\n",
       "      <td>6</td>\n",
       "      <td>15.0</td>\n",
       "    </tr>\n",
       "    <tr>\n",
       "      <th>107</th>\n",
       "      <td>Case Files</td>\n",
       "      <td>USA v. Ibrahim</td>\n",
       "      <td>8:04-cr-00311-JVS</td>\n",
       "      <td>2</td>\n",
       "      <td>1.0</td>\n",
       "    </tr>\n",
       "    <tr>\n",
       "      <th>108</th>\n",
       "      <td>Case Files</td>\n",
       "      <td>USA v. Maldonado</td>\n",
       "      <td>3:07-cr005556-BHS-1</td>\n",
       "      <td>1</td>\n",
       "      <td>1.0</td>\n",
       "    </tr>\n",
       "    <tr>\n",
       "      <th>109</th>\n",
       "      <td>Case Files</td>\n",
       "      <td>USA v. Toviave</td>\n",
       "      <td>2:11-cr-20259-AJT-MAR-1</td>\n",
       "      <td>1</td>\n",
       "      <td>4.0</td>\n",
       "    </tr>\n",
       "    <tr>\n",
       "      <th>110</th>\n",
       "      <td>Case Files</td>\n",
       "      <td>USA v. Maddox, et al</td>\n",
       "      <td>6:05-cr-00240-WSS</td>\n",
       "      <td>2</td>\n",
       "      <td>1.0</td>\n",
       "    </tr>\n",
       "    <tr>\n",
       "      <th>111</th>\n",
       "      <td>Case Files</td>\n",
       "      <td>USA v. Udeozor et al</td>\n",
       "      <td>8:03-cr-00470-PJM</td>\n",
       "      <td>2</td>\n",
       "      <td>1.0</td>\n",
       "    </tr>\n",
       "  </tbody>\n",
       "</table>\n",
       "</div>"
      ],
      "text/plain": [
       "    View Case Files                       Case Name              Case Number  \\\n",
       "92       Case Files        USA v. Alrowaishan et al        1:03-cr-00311-TSE   \n",
       "93       Case Files                      USA v. Hui      1:16-cr-00221-RBK-1   \n",
       "94       Case Files             USA v. Zavala et al      2:04-cr-00962-SJF-1   \n",
       "95       Case Files  USA v. Felipe Dos Santos et al    1:05-cr-00613-TWT-JFK   \n",
       "96       Case Files        USA v. Leon-Aldana et al          3:07-cr-00035-L   \n",
       "97       Case Files                       USA v. Li      1:16-cr-00583-RBK-1   \n",
       "98       Case Files              USA v. Rojas et al            4:11-cr-00116   \n",
       "99       Case Files                    USA v. Bello    1:10-cr-00397-WSD-LTW   \n",
       "100      Case Files            USA v. Notario et al        2:06-cr-00637-SDW   \n",
       "101      Case Files               USA v. Lee, et al    1:01-cr-00132-SOM-BMK   \n",
       "102      Case Files             USA v. Satia, et al         8:00-cr-00590-AW   \n",
       "103      Case Files               USA v. Phan et al        1:08-cr-00436-SHR   \n",
       "104      Case Files   USA v. Rosales Martinez et al        3:05-cr-00148-JAP   \n",
       "105      Case Files              USA v. Kenit et al        3:11-cr-05182-RJB   \n",
       "106      Case Files          USA v. Navarrete et al    2:07-cr-00136-JES-DNF   \n",
       "107      Case Files                  USA v. Ibrahim        8:04-cr-00311-JVS   \n",
       "108      Case Files                USA v. Maldonado      3:07-cr005556-BHS-1   \n",
       "109      Case Files                  USA v. Toviave  2:11-cr-20259-AJT-MAR-1   \n",
       "110      Case Files            USA v. Maddox, et al        6:05-cr-00240-WSS   \n",
       "111      Case Files            USA v. Udeozor et al        8:03-cr-00470-PJM   \n",
       "\n",
       "     # of Defendants  # of Victims  \n",
       "92                 2           1.0  \n",
       "93                 1           3.0  \n",
       "94                 2           1.0  \n",
       "95                 3           4.0  \n",
       "96                 4           9.0  \n",
       "97                 1           3.0  \n",
       "98                10          23.0  \n",
       "99                 1           2.0  \n",
       "100                4          20.0  \n",
       "101                3          21.0  \n",
       "102                4           2.0  \n",
       "103                3           2.0  \n",
       "104               10          25.0  \n",
       "105                2           1.0  \n",
       "106                6          15.0  \n",
       "107                2           1.0  \n",
       "108                1           1.0  \n",
       "109                1           4.0  \n",
       "110                2           1.0  \n",
       "111                2           1.0  "
      ]
     },
     "execution_count": 5,
     "metadata": {},
     "output_type": "execute_result"
    }
   ],
   "source": [
    "labor_df.tail(20)"
   ]
  },
  {
   "cell_type": "code",
   "execution_count": 11,
   "metadata": {
    "ExecuteTime": {
     "end_time": "2019-11-02T11:40:03.053325Z",
     "start_time": "2019-11-02T11:40:03.045238Z"
    }
   },
   "outputs": [
    {
     "data": {
      "text/plain": [
       "View Case Files     object\n",
       "Case Name           object\n",
       "Case Number         object\n",
       "# of Defendants      int64\n",
       "# of Victims       float64\n",
       "dtype: object"
      ]
     },
     "execution_count": 11,
     "metadata": {},
     "output_type": "execute_result"
    }
   ],
   "source": [
    "labor_df.dtypes"
   ]
  },
  {
   "cell_type": "code",
   "execution_count": 8,
   "metadata": {
    "ExecuteTime": {
     "end_time": "2019-11-02T11:36:22.928857Z",
     "start_time": "2019-11-02T11:36:22.922299Z"
    }
   },
   "outputs": [],
   "source": [
    "case_no_list=labor_df['Case Number'].values"
   ]
  },
  {
   "cell_type": "code",
   "execution_count": 10,
   "metadata": {
    "ExecuteTime": {
     "end_time": "2019-11-02T11:36:35.588033Z",
     "start_time": "2019-11-02T11:36:35.581475Z"
    }
   },
   "outputs": [
    {
     "data": {
      "text/plain": [
       "112"
      ]
     },
     "execution_count": 10,
     "metadata": {},
     "output_type": "execute_result"
    }
   ],
   "source": [
    "len(case_no_list)"
   ]
  },
  {
   "cell_type": "code",
   "execution_count": 12,
   "metadata": {
    "ExecuteTime": {
     "end_time": "2019-11-02T11:40:38.472406Z",
     "start_time": "2019-11-02T11:40:38.468466Z"
    }
   },
   "outputs": [],
   "source": [
    "case_url = 'http://www.humantraffickingdata.org/search/'+case_no_list[0]"
   ]
  },
  {
   "cell_type": "code",
   "execution_count": 13,
   "metadata": {
    "ExecuteTime": {
     "end_time": "2019-11-02T11:40:42.066059Z",
     "start_time": "2019-11-02T11:40:42.060670Z"
    }
   },
   "outputs": [
    {
     "data": {
      "text/plain": [
       "'http://www.humantraffickingdata.org/search/2:10-cr-00159-PD'"
      ]
     },
     "execution_count": 13,
     "metadata": {},
     "output_type": "execute_result"
    }
   ],
   "source": [
    "case_url"
   ]
  },
  {
   "cell_type": "code",
   "execution_count": 16,
   "metadata": {
    "ExecuteTime": {
     "end_time": "2019-11-02T11:53:32.332647Z",
     "start_time": "2019-11-02T11:52:37.254704Z"
    }
   },
   "outputs": [],
   "source": [
    "case_summary=[]\n",
    "for case in case_no_list:\n",
    "    case_url = 'http://www.humantraffickingdata.org/search/'+case\n",
    "    r  = requests.get(case_url)\n",
    "    soup = BeautifulSoup(r.text)\n",
    "    case_summary.append(soup.find('p').get_text())"
   ]
  },
  {
   "cell_type": "code",
   "execution_count": 18,
   "metadata": {
    "ExecuteTime": {
     "end_time": "2019-11-02T11:53:44.311176Z",
     "start_time": "2019-11-02T11:53:44.303878Z"
    }
   },
   "outputs": [
    {
     "data": {
      "text/plain": [
       "112"
      ]
     },
     "execution_count": 18,
     "metadata": {},
     "output_type": "execute_result"
    }
   ],
   "source": [
    "len(case_summary)"
   ]
  },
  {
   "cell_type": "code",
   "execution_count": 19,
   "metadata": {
    "ExecuteTime": {
     "end_time": "2019-11-02T11:54:16.378208Z",
     "start_time": "2019-11-02T11:54:16.367726Z"
    }
   },
   "outputs": [],
   "source": [
    "labor_df['Case Summary'] = case_summary\n",
    "labor_df['Case Type'] = 'Labor'"
   ]
  },
  {
   "cell_type": "code",
   "execution_count": 22,
   "metadata": {
    "ExecuteTime": {
     "end_time": "2019-11-02T11:56:17.679117Z",
     "start_time": "2019-11-02T11:56:17.649787Z"
    }
   },
   "outputs": [
    {
     "data": {
      "text/html": [
       "<div>\n",
       "<style scoped>\n",
       "    .dataframe tbody tr th:only-of-type {\n",
       "        vertical-align: middle;\n",
       "    }\n",
       "\n",
       "    .dataframe tbody tr th {\n",
       "        vertical-align: top;\n",
       "    }\n",
       "\n",
       "    .dataframe thead th {\n",
       "        text-align: right;\n",
       "    }\n",
       "</style>\n",
       "<table border=\"1\" class=\"dataframe\">\n",
       "  <thead>\n",
       "    <tr style=\"text-align: right;\">\n",
       "      <th></th>\n",
       "      <th>View Case Files</th>\n",
       "      <th>Case Name</th>\n",
       "      <th>Case Number</th>\n",
       "      <th># of Defendants</th>\n",
       "      <th># of Victims</th>\n",
       "      <th>Case Summary</th>\n",
       "      <th>Case Type</th>\n",
       "    </tr>\n",
       "  </thead>\n",
       "  <tbody>\n",
       "    <tr>\n",
       "      <th>0</th>\n",
       "      <td>Case Files</td>\n",
       "      <td>USA v. Botsvynyuk</td>\n",
       "      <td>2:10-cr-00159-PD</td>\n",
       "      <td>5</td>\n",
       "      <td>30.0</td>\n",
       "      <td>The defendants, five Ukrainian brothers, recru...</td>\n",
       "      <td>Labor</td>\n",
       "    </tr>\n",
       "    <tr>\n",
       "      <th>1</th>\n",
       "      <td>Case Files</td>\n",
       "      <td>USA v. Kalu</td>\n",
       "      <td>1:12-cr-00106</td>\n",
       "      <td>2</td>\n",
       "      <td>18.0</td>\n",
       "      <td>The defendants created an educational institut...</td>\n",
       "      <td>Labor</td>\n",
       "    </tr>\n",
       "    <tr>\n",
       "      <th>2</th>\n",
       "      <td>Case Files</td>\n",
       "      <td>USA v. Lee, et al</td>\n",
       "      <td>1:01-cr-00132-SOM-BMK</td>\n",
       "      <td>3</td>\n",
       "      <td>21.0</td>\n",
       "      <td>The defendants operated a garment factory usin...</td>\n",
       "      <td>Labor</td>\n",
       "    </tr>\n",
       "    <tr>\n",
       "      <th>3</th>\n",
       "      <td>Case Files</td>\n",
       "      <td>USA v. Leon-Aldana et al</td>\n",
       "      <td>3:07-cr-00035-L</td>\n",
       "      <td>4</td>\n",
       "      <td>9.0</td>\n",
       "      <td>The defendants were members of an alien smuggl...</td>\n",
       "      <td>Labor</td>\n",
       "    </tr>\n",
       "    <tr>\n",
       "      <th>4</th>\n",
       "      <td>Case Files</td>\n",
       "      <td>USA v. Weston</td>\n",
       "      <td>2:13-cr-00025-CMR</td>\n",
       "      <td>5</td>\n",
       "      <td>50.0</td>\n",
       "      <td>The defendant known as Linda Weston used cunni...</td>\n",
       "      <td>Labor</td>\n",
       "    </tr>\n",
       "    <tr>\n",
       "      <th>...</th>\n",
       "      <td>...</td>\n",
       "      <td>...</td>\n",
       "      <td>...</td>\n",
       "      <td>...</td>\n",
       "      <td>...</td>\n",
       "      <td>...</td>\n",
       "      <td>...</td>\n",
       "    </tr>\n",
       "    <tr>\n",
       "      <th>107</th>\n",
       "      <td>Case Files</td>\n",
       "      <td>USA v. Ibrahim</td>\n",
       "      <td>8:04-cr-00311-JVS</td>\n",
       "      <td>2</td>\n",
       "      <td>1.0</td>\n",
       "      <td>Defendants arranged for a minor victim to come...</td>\n",
       "      <td>Labor</td>\n",
       "    </tr>\n",
       "    <tr>\n",
       "      <th>108</th>\n",
       "      <td>Case Files</td>\n",
       "      <td>USA v. Maldonado</td>\n",
       "      <td>3:07-cr005556-BHS-1</td>\n",
       "      <td>1</td>\n",
       "      <td>1.0</td>\n",
       "      <td>The defendant knowingly brought an illegal ali...</td>\n",
       "      <td>Labor</td>\n",
       "    </tr>\n",
       "    <tr>\n",
       "      <th>109</th>\n",
       "      <td>Case Files</td>\n",
       "      <td>USA v. Toviave</td>\n",
       "      <td>2:11-cr-20259-AJT-MAR-1</td>\n",
       "      <td>1</td>\n",
       "      <td>4.0</td>\n",
       "      <td>The defendant did knowingly forge several appl...</td>\n",
       "      <td>Labor</td>\n",
       "    </tr>\n",
       "    <tr>\n",
       "      <th>110</th>\n",
       "      <td>Case Files</td>\n",
       "      <td>USA v. Maddox, et al</td>\n",
       "      <td>6:05-cr-00240-WSS</td>\n",
       "      <td>2</td>\n",
       "      <td>1.0</td>\n",
       "      <td>Defendants (married couple) smuggled 12-year-o...</td>\n",
       "      <td>Labor</td>\n",
       "    </tr>\n",
       "    <tr>\n",
       "      <th>111</th>\n",
       "      <td>Case Files</td>\n",
       "      <td>USA v. Udeozor et al</td>\n",
       "      <td>8:03-cr-00470-PJM</td>\n",
       "      <td>2</td>\n",
       "      <td>1.0</td>\n",
       "      <td>The Udeozor family smuggled in a 14-year-old g...</td>\n",
       "      <td>Labor</td>\n",
       "    </tr>\n",
       "  </tbody>\n",
       "</table>\n",
       "<p>112 rows × 7 columns</p>\n",
       "</div>"
      ],
      "text/plain": [
       "    View Case Files                 Case Name              Case Number  \\\n",
       "0        Case Files         USA v. Botsvynyuk         2:10-cr-00159-PD   \n",
       "1        Case Files               USA v. Kalu            1:12-cr-00106   \n",
       "2        Case Files         USA v. Lee, et al    1:01-cr-00132-SOM-BMK   \n",
       "3        Case Files  USA v. Leon-Aldana et al          3:07-cr-00035-L   \n",
       "4        Case Files             USA v. Weston        2:13-cr-00025-CMR   \n",
       "..              ...                       ...                      ...   \n",
       "107      Case Files            USA v. Ibrahim        8:04-cr-00311-JVS   \n",
       "108      Case Files          USA v. Maldonado      3:07-cr005556-BHS-1   \n",
       "109      Case Files            USA v. Toviave  2:11-cr-20259-AJT-MAR-1   \n",
       "110      Case Files      USA v. Maddox, et al        6:05-cr-00240-WSS   \n",
       "111      Case Files      USA v. Udeozor et al        8:03-cr-00470-PJM   \n",
       "\n",
       "     # of Defendants  # of Victims  \\\n",
       "0                  5          30.0   \n",
       "1                  2          18.0   \n",
       "2                  3          21.0   \n",
       "3                  4           9.0   \n",
       "4                  5          50.0   \n",
       "..               ...           ...   \n",
       "107                2           1.0   \n",
       "108                1           1.0   \n",
       "109                1           4.0   \n",
       "110                2           1.0   \n",
       "111                2           1.0   \n",
       "\n",
       "                                          Case Summary Case Type  \n",
       "0    The defendants, five Ukrainian brothers, recru...     Labor  \n",
       "1    The defendants created an educational institut...     Labor  \n",
       "2    The defendants operated a garment factory usin...     Labor  \n",
       "3    The defendants were members of an alien smuggl...     Labor  \n",
       "4    The defendant known as Linda Weston used cunni...     Labor  \n",
       "..                                                 ...       ...  \n",
       "107  Defendants arranged for a minor victim to come...     Labor  \n",
       "108  The defendant knowingly brought an illegal ali...     Labor  \n",
       "109  The defendant did knowingly forge several appl...     Labor  \n",
       "110  Defendants (married couple) smuggled 12-year-o...     Labor  \n",
       "111  The Udeozor family smuggled in a 14-year-old g...     Labor  \n",
       "\n",
       "[112 rows x 7 columns]"
      ]
     },
     "execution_count": 22,
     "metadata": {},
     "output_type": "execute_result"
    }
   ],
   "source": [
    "labor_df"
   ]
  },
  {
   "cell_type": "markdown",
   "metadata": {},
   "source": [
    "## "
   ]
  },
  {
   "cell_type": "code",
   "execution_count": 27,
   "metadata": {
    "ExecuteTime": {
     "end_time": "2019-11-02T13:13:22.850708Z",
     "start_time": "2019-11-02T13:13:22.842892Z"
    }
   },
   "outputs": [],
   "source": [
    "url = 'http://www.humantraffickingdata.org/search?commit=Search&defendants_statutes_any_all=any&page=3&q%5Badult_sex_true%5D=1&q%5Bcase_name_cont%5D=&q%5Bcase_number_cont%5D=&q%5Bdefendants_arrest_age%5D=12%2C80&q%5Bdefendants_count%5D=0%2C100&q%5Bdefendants_country_of_origin_cont_any%5D%5B%5D=&q%5Bdefendants_first_name_or_defendants_last_name_matches%5D=&q%5Bdefendants_gender_cont_any%5D%5B%5D=&q%5Bdefendants_race_cont_any%5D%5B%5D=&q%5Bdefendants_restitution_gt_zero%5D=0&q%5Bdefendants_s_1028_true%5D=0&q%5Bdefendants_s_1324_true%5D=0&q%5Bdefendants_s_1328_true%5D=0&q%5Bdefendants_s_1351_true%5D=0&q%5Bdefendants_s_1425_true%5D=0&q%5Bdefendants_s_1512_true%5D=0&q%5Bdefendants_s_1546_true%5D=0&q%5Bdefendants_s_1581_to_1588_true%5D=0&q%5Bdefendants_s_1589_true%5D=0&q%5Bdefendants_s_1590_true%5D=0&q%5Bdefendants_s_1591_true%5D=0&q%5Bdefendants_s_1592_true%5D=0&q%5Bdefendants_s_1593_true%5D=0&q%5Bdefendants_s_1594_true%5D=0&q%5Bdefendants_s_1961_to_1968_true%5D=0&q%5Bdefendants_s_2251_true%5D=0&q%5Bdefendants_s_2252_true%5D=0&q%5Bdefendants_s_2260_true%5D=0&q%5Bdefendants_s_2421_to_2424_true%5D=0&q%5Bdefendants_total_sentence%5D=0%2C1200&q%5Bfed_district_number_in%5D%5B%5D=&q%5Blabor_true%5D=0&q%5Bminor_sex_true%5D=0&q%5Bnumber_victims_female_gt_zero%5D=0&q%5Bnumber_victims_foreign_gt_zero%5D=0&q%5Bnumber_victims_male_gt_zero%5D=0&q%5Bnumber_victims_minor_gt_zero%5D=0&q%5Bstart_year%5D=2000%2C2020&q%5Bstate_cont_any%5D%5B%5D=&q%5Btype_of_labor_cont_any%5D%5B%5D=&q%5Btype_of_sex_cont_any%5D%5B%5D=&q%5Bvictim_countries_name_cont_any%5D%5B%5D=&q%5Bvictims_count%5D=0%2C1000&utf8=%E2%9C%93'"
   ]
  },
  {
   "cell_type": "code",
   "execution_count": 28,
   "metadata": {
    "ExecuteTime": {
     "end_time": "2019-11-02T13:13:24.543428Z",
     "start_time": "2019-11-02T13:13:23.419810Z"
    }
   },
   "outputs": [
    {
     "data": {
      "text/html": [
       "<div>\n",
       "<style scoped>\n",
       "    .dataframe tbody tr th:only-of-type {\n",
       "        vertical-align: middle;\n",
       "    }\n",
       "\n",
       "    .dataframe tbody tr th {\n",
       "        vertical-align: top;\n",
       "    }\n",
       "\n",
       "    .dataframe thead th {\n",
       "        text-align: right;\n",
       "    }\n",
       "</style>\n",
       "<table border=\"1\" class=\"dataframe\">\n",
       "  <thead>\n",
       "    <tr style=\"text-align: right;\">\n",
       "      <th></th>\n",
       "      <th>View Case Files</th>\n",
       "      <th>Case Name</th>\n",
       "      <th>Case Number</th>\n",
       "      <th># of Defendants</th>\n",
       "      <th># of Victims</th>\n",
       "    </tr>\n",
       "  </thead>\n",
       "  <tbody>\n",
       "    <tr>\n",
       "      <th>0</th>\n",
       "      <td>Case Files</td>\n",
       "      <td>USA v. Hill</td>\n",
       "      <td>5:05-cr-00111-L</td>\n",
       "      <td>1</td>\n",
       "      <td>4.0</td>\n",
       "    </tr>\n",
       "    <tr>\n",
       "      <th>1</th>\n",
       "      <td>Case Files</td>\n",
       "      <td>USA v. Callahan et al</td>\n",
       "      <td>1:13-cr-00339-BYP</td>\n",
       "      <td>3</td>\n",
       "      <td>2.0</td>\n",
       "    </tr>\n",
       "    <tr>\n",
       "      <th>2</th>\n",
       "      <td>Case Files</td>\n",
       "      <td>USA v. Robinson et al</td>\n",
       "      <td>1:05-cr-00443-YK</td>\n",
       "      <td>16</td>\n",
       "      <td>22.0</td>\n",
       "    </tr>\n",
       "    <tr>\n",
       "      <th>3</th>\n",
       "      <td>Case Files</td>\n",
       "      <td>USA v. Virchenko</td>\n",
       "      <td>3:01-cr-00013-JKS</td>\n",
       "      <td>4</td>\n",
       "      <td>6.0</td>\n",
       "    </tr>\n",
       "    <tr>\n",
       "      <th>4</th>\n",
       "      <td>Case Files</td>\n",
       "      <td>USA v. Bramer et al</td>\n",
       "      <td>0:13-cr-00049-DWF-TNL</td>\n",
       "      <td>2</td>\n",
       "      <td>2.0</td>\n",
       "    </tr>\n",
       "    <tr>\n",
       "      <th>5</th>\n",
       "      <td>Case Files</td>\n",
       "      <td>USA v. Kidgell et al</td>\n",
       "      <td>6:13-cr-10129-EFM</td>\n",
       "      <td>3</td>\n",
       "      <td>4.0</td>\n",
       "    </tr>\n",
       "    <tr>\n",
       "      <th>6</th>\n",
       "      <td>Case Files</td>\n",
       "      <td>USA v. Mustafa et al</td>\n",
       "      <td>1:11-cr-00234-CAP-AJB</td>\n",
       "      <td>2</td>\n",
       "      <td>6.0</td>\n",
       "    </tr>\n",
       "    <tr>\n",
       "      <th>7</th>\n",
       "      <td>Case Files</td>\n",
       "      <td>USA v. Singh et al</td>\n",
       "      <td>4:11-cr-00883-PJH</td>\n",
       "      <td>2</td>\n",
       "      <td>3.0</td>\n",
       "    </tr>\n",
       "    <tr>\n",
       "      <th>8</th>\n",
       "      <td>Case Files</td>\n",
       "      <td>USA v. Walls et al</td>\n",
       "      <td>3:11-cr-05408-RJB</td>\n",
       "      <td>2</td>\n",
       "      <td>6.0</td>\n",
       "    </tr>\n",
       "    <tr>\n",
       "      <th>9</th>\n",
       "      <td>Case Files</td>\n",
       "      <td>USA v. Brockett et al</td>\n",
       "      <td>1:08-cr-00829-SJ</td>\n",
       "      <td>2</td>\n",
       "      <td>5.0</td>\n",
       "    </tr>\n",
       "    <tr>\n",
       "      <th>10</th>\n",
       "      <td>Case Files</td>\n",
       "      <td>USA v. Costanzo</td>\n",
       "      <td>8:10-cr-00146-JFB-TDT</td>\n",
       "      <td>4</td>\n",
       "      <td>3.0</td>\n",
       "    </tr>\n",
       "    <tr>\n",
       "      <th>11</th>\n",
       "      <td>Case Files</td>\n",
       "      <td>USA v. Martinez-Solarzano et al</td>\n",
       "      <td>8:08-cr-00043</td>\n",
       "      <td>6</td>\n",
       "      <td>100.0</td>\n",
       "    </tr>\n",
       "    <tr>\n",
       "      <th>12</th>\n",
       "      <td>Case Files</td>\n",
       "      <td>USA v. Morsette et al</td>\n",
       "      <td>4:10-cr-00070</td>\n",
       "      <td>4</td>\n",
       "      <td>5.0</td>\n",
       "    </tr>\n",
       "    <tr>\n",
       "      <th>13</th>\n",
       "      <td>Case Files</td>\n",
       "      <td>USA v. Simmons et al</td>\n",
       "      <td>1:13-cr-00061</td>\n",
       "      <td>2</td>\n",
       "      <td>2.0</td>\n",
       "    </tr>\n",
       "    <tr>\n",
       "      <th>14</th>\n",
       "      <td>Case Files</td>\n",
       "      <td>USA v. Mendez-Hernandez</td>\n",
       "      <td>4:13-cr-00004</td>\n",
       "      <td>25</td>\n",
       "      <td>15.0</td>\n",
       "    </tr>\n",
       "    <tr>\n",
       "      <th>15</th>\n",
       "      <td>Case Files</td>\n",
       "      <td>USA v. Cephus et al</td>\n",
       "      <td>2:09-cr-00043-RL-PCR</td>\n",
       "      <td>5</td>\n",
       "      <td>16.0</td>\n",
       "    </tr>\n",
       "    <tr>\n",
       "      <th>16</th>\n",
       "      <td>Case Files</td>\n",
       "      <td>USA v. Chae et al</td>\n",
       "      <td>5:13-cr-00012-MTT-CHW</td>\n",
       "      <td>5</td>\n",
       "      <td>NaN</td>\n",
       "    </tr>\n",
       "    <tr>\n",
       "      <th>17</th>\n",
       "      <td>Case Files</td>\n",
       "      <td>USA v. Acosta</td>\n",
       "      <td>2:07-cr-00871-ROS</td>\n",
       "      <td>1</td>\n",
       "      <td>4.0</td>\n",
       "    </tr>\n",
       "    <tr>\n",
       "      <th>18</th>\n",
       "      <td>Case Files</td>\n",
       "      <td>USA v. Babaev</td>\n",
       "      <td>1:05-cr-00417-ILG-1</td>\n",
       "      <td>1</td>\n",
       "      <td>3.0</td>\n",
       "    </tr>\n",
       "    <tr>\n",
       "      <th>19</th>\n",
       "      <td>Case Files</td>\n",
       "      <td>USA v. Boehm et al</td>\n",
       "      <td>3:04-cr-00003-JWS</td>\n",
       "      <td>3</td>\n",
       "      <td>14.0</td>\n",
       "    </tr>\n",
       "    <tr>\n",
       "      <th>20</th>\n",
       "      <td>Case Files</td>\n",
       "      <td>USA v. Brice</td>\n",
       "      <td>1:05-cr-00367-RMC</td>\n",
       "      <td>1</td>\n",
       "      <td>3.0</td>\n",
       "    </tr>\n",
       "    <tr>\n",
       "      <th>21</th>\n",
       "      <td>Case Files</td>\n",
       "      <td>USA v. Brown</td>\n",
       "      <td>2:08-cr-00989-SVW</td>\n",
       "      <td>1</td>\n",
       "      <td>2.0</td>\n",
       "    </tr>\n",
       "    <tr>\n",
       "      <th>22</th>\n",
       "      <td>Case Files</td>\n",
       "      <td>USA v. Brown (Agni Lisa) et al</td>\n",
       "      <td>1:05-cr-00414-JCC</td>\n",
       "      <td>2</td>\n",
       "      <td>NaN</td>\n",
       "    </tr>\n",
       "    <tr>\n",
       "      <th>23</th>\n",
       "      <td>Case Files</td>\n",
       "      <td>USA v. Brown (Kaseim)</td>\n",
       "      <td>1:06-cr-00867-JHR</td>\n",
       "      <td>2</td>\n",
       "      <td>9.0</td>\n",
       "    </tr>\n",
       "    <tr>\n",
       "      <th>24</th>\n",
       "      <td>Case Files</td>\n",
       "      <td>USA v. Buck</td>\n",
       "      <td>4:08-cr-00301-GAF</td>\n",
       "      <td>1</td>\n",
       "      <td>4.0</td>\n",
       "    </tr>\n",
       "  </tbody>\n",
       "</table>\n",
       "</div>"
      ],
      "text/plain": [
       "   View Case Files                        Case Name            Case Number  \\\n",
       "0       Case Files                      USA v. Hill        5:05-cr-00111-L   \n",
       "1       Case Files            USA v. Callahan et al      1:13-cr-00339-BYP   \n",
       "2       Case Files            USA v. Robinson et al       1:05-cr-00443-YK   \n",
       "3       Case Files                 USA v. Virchenko      3:01-cr-00013-JKS   \n",
       "4       Case Files              USA v. Bramer et al  0:13-cr-00049-DWF-TNL   \n",
       "5       Case Files             USA v. Kidgell et al      6:13-cr-10129-EFM   \n",
       "6       Case Files             USA v. Mustafa et al  1:11-cr-00234-CAP-AJB   \n",
       "7       Case Files               USA v. Singh et al      4:11-cr-00883-PJH   \n",
       "8       Case Files               USA v. Walls et al      3:11-cr-05408-RJB   \n",
       "9       Case Files            USA v. Brockett et al       1:08-cr-00829-SJ   \n",
       "10      Case Files                  USA v. Costanzo  8:10-cr-00146-JFB-TDT   \n",
       "11      Case Files  USA v. Martinez-Solarzano et al          8:08-cr-00043   \n",
       "12      Case Files            USA v. Morsette et al          4:10-cr-00070   \n",
       "13      Case Files             USA v. Simmons et al          1:13-cr-00061   \n",
       "14      Case Files          USA v. Mendez-Hernandez          4:13-cr-00004   \n",
       "15      Case Files              USA v. Cephus et al   2:09-cr-00043-RL-PCR   \n",
       "16      Case Files                USA v. Chae et al  5:13-cr-00012-MTT-CHW   \n",
       "17      Case Files                    USA v. Acosta      2:07-cr-00871-ROS   \n",
       "18      Case Files                    USA v. Babaev    1:05-cr-00417-ILG-1   \n",
       "19      Case Files               USA v. Boehm et al      3:04-cr-00003-JWS   \n",
       "20      Case Files                     USA v. Brice      1:05-cr-00367-RMC   \n",
       "21      Case Files                     USA v. Brown      2:08-cr-00989-SVW   \n",
       "22      Case Files   USA v. Brown (Agni Lisa) et al      1:05-cr-00414-JCC   \n",
       "23      Case Files            USA v. Brown (Kaseim)      1:06-cr-00867-JHR   \n",
       "24      Case Files                      USA v. Buck      4:08-cr-00301-GAF   \n",
       "\n",
       "    # of Defendants  # of Victims  \n",
       "0                 1           4.0  \n",
       "1                 3           2.0  \n",
       "2                16          22.0  \n",
       "3                 4           6.0  \n",
       "4                 2           2.0  \n",
       "5                 3           4.0  \n",
       "6                 2           6.0  \n",
       "7                 2           3.0  \n",
       "8                 2           6.0  \n",
       "9                 2           5.0  \n",
       "10                4           3.0  \n",
       "11                6         100.0  \n",
       "12                4           5.0  \n",
       "13                2           2.0  \n",
       "14               25          15.0  \n",
       "15                5          16.0  \n",
       "16                5           NaN  \n",
       "17                1           4.0  \n",
       "18                1           3.0  \n",
       "19                3          14.0  \n",
       "20                1           3.0  \n",
       "21                1           2.0  \n",
       "22                2           NaN  \n",
       "23                2           9.0  \n",
       "24                1           4.0  "
      ]
     },
     "execution_count": 28,
     "metadata": {},
     "output_type": "execute_result"
    }
   ],
   "source": [
    "pd.read_html(url)[0]"
   ]
  },
  {
   "cell_type": "code",
   "execution_count": null,
   "metadata": {},
   "outputs": [],
   "source": []
  }
 ],
 "metadata": {
  "kernelspec": {
   "display_name": "Python 3",
   "language": "python",
   "name": "python3"
  },
  "language_info": {
   "codemirror_mode": {
    "name": "ipython",
    "version": 3
   },
   "file_extension": ".py",
   "mimetype": "text/x-python",
   "name": "python",
   "nbconvert_exporter": "python",
   "pygments_lexer": "ipython3",
   "version": "3.7.5"
  },
  "toc": {
   "base_numbering": 1,
   "nav_menu": {},
   "number_sections": true,
   "sideBar": true,
   "skip_h1_title": false,
   "title_cell": "Table of Contents",
   "title_sidebar": "Contents",
   "toc_cell": false,
   "toc_position": {},
   "toc_section_display": true,
   "toc_window_display": false
  },
  "varInspector": {
   "cols": {
    "lenName": 16,
    "lenType": 16,
    "lenVar": 40
   },
   "kernels_config": {
    "python": {
     "delete_cmd_postfix": "",
     "delete_cmd_prefix": "del ",
     "library": "var_list.py",
     "varRefreshCmd": "print(var_dic_list())"
    },
    "r": {
     "delete_cmd_postfix": ") ",
     "delete_cmd_prefix": "rm(",
     "library": "var_list.r",
     "varRefreshCmd": "cat(var_dic_list()) "
    }
   },
   "types_to_exclude": [
    "module",
    "function",
    "builtin_function_or_method",
    "instance",
    "_Feature"
   ],
   "window_display": false
  }
 },
 "nbformat": 4,
 "nbformat_minor": 2
}
