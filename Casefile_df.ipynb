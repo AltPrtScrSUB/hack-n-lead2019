{
 "cells": [
  {
   "cell_type": "code",
   "execution_count": 1,
   "metadata": {
    "ExecuteTime": {
     "end_time": "2019-11-02T13:08:44.820236Z",
     "start_time": "2019-11-02T13:08:44.384979Z"
    }
   },
   "outputs": [],
   "source": [
    "import io\n",
    "import requests\n",
    "import pandas as pd\n",
    "from bs4 import BeautifulSoup"
   ]
  },
  {
   "cell_type": "markdown",
   "metadata": {},
   "source": [
    "*create dataframes*"
   ]
  },
  {
   "cell_type": "code",
   "execution_count": 11,
   "metadata": {
    "ExecuteTime": {
     "end_time": "2019-11-02T13:22:47.123659Z",
     "start_time": "2019-11-02T13:22:47.113427Z"
    }
   },
   "outputs": [],
   "source": [
    "def get_case_df(case_type,first_part,second_part,number):\n",
    "    '''\n",
    "    case_type: labor,minor,adult\n",
    "    first_part,second_part: url of case\n",
    "    number: no. of pages in url\n",
    "    '''\n",
    "    df = pd.DataFrame()\n",
    "    for i in range(1,number):\n",
    "        url = first_part + str(i) + second_part\n",
    "\n",
    "        r = requests.get(url)\n",
    "        if r.status_code == 200:\n",
    "            df=pd.concat([df,pd.read_html(url)[0]],ignore_index=True)\n",
    "    df['Case Type'] = case_type\n",
    "    return df"
   ]
  },
  {
   "cell_type": "markdown",
   "metadata": {},
   "source": [
    "### Labor"
   ]
  },
  {
   "cell_type": "code",
   "execution_count": 3,
   "metadata": {
    "ExecuteTime": {
     "end_time": "2019-11-02T13:11:06.467388Z",
     "start_time": "2019-11-02T13:10:55.789277Z"
    }
   },
   "outputs": [],
   "source": [
    "case_type = 'Labor'\n",
    "first_part = 'http://www.humantraffickingdata.org/search?commit=Search&defendants_statutes_any_all=all&page='\n",
    "second_part = '&q%5Badult_sex_true%5D=0&q%5Bcase_name_cont%5D=&q%5Bcase_number_cont%5D=&q%5Bdefendants_arrest_age%5D=12%2C80&q%5Bdefendants_count%5D=0%2C100&q%5Bdefendants_country_of_origin_cont_any%5D%5B%5D=&q%5Bdefendants_first_name_or_defendants_last_name_matches%5D=&q%5Bdefendants_gender_cont_any%5D%5B%5D=&q%5Bdefendants_race_cont_any%5D%5B%5D=&q%5Bdefendants_restitution_gt_zero%5D=0&q%5Bdefendants_s_1028_true%5D=0&q%5Bdefendants_s_1324_true%5D=0&q%5Bdefendants_s_1328_true%5D=0&q%5Bdefendants_s_1351_true%5D=0&q%5Bdefendants_s_1425_true%5D=0&q%5Bdefendants_s_1512_true%5D=0&q%5Bdefendants_s_1546_true%5D=0&q%5Bdefendants_s_1581_to_1588_true%5D=0&q%5Bdefendants_s_1589_true%5D=0&q%5Bdefendants_s_1590_true%5D=0&q%5Bdefendants_s_1591_true%5D=0&q%5Bdefendants_s_1592_true%5D=0&q%5Bdefendants_s_1593_true%5D=0&q%5Bdefendants_s_1594_true%5D=0&q%5Bdefendants_s_1961_to_1968_true%5D=0&q%5Bdefendants_s_2251_true%5D=0&q%5Bdefendants_s_2252_true%5D=0&q%5Bdefendants_s_2260_true%5D=0&q%5Bdefendants_s_2421_to_2424_true%5D=0&q%5Bdefendants_total_sentence%5D=0%2C1200&q%5Bfed_district_number_in%5D%5B%5D=&q%5Blabor_true%5D=1&q%5Bminor_sex_true%5D=0&q%5Bnumber_victims_female_gt_zero%5D=0&q%5Bnumber_victims_foreign_gt_zero%5D=0&q%5Bnumber_victims_male_gt_zero%5D=0&q%5Bnumber_victims_minor_gt_zero%5D=0&q%5Bstart_year%5D=2000%2C2020&q%5Bstate_cont_any%5D%5B%5D=&q%5Btype_of_labor_cont_any%5D%5B%5D=&q%5Btype_of_sex_cont_any%5D%5B%5D=&q%5Bvictim_countries_name_cont_any%5D%5B%5D=&q%5Bvictims_count%5D=0%2C1000&utf8=%E2%9C%93'\n",
    "number = 5\n",
    "labor_df = get_case_df(case_type,first_part,second_part,number)"
   ]
  },
  {
   "cell_type": "code",
   "execution_count": 6,
   "metadata": {
    "ExecuteTime": {
     "end_time": "2019-11-02T13:11:32.306037Z",
     "start_time": "2019-11-02T13:11:32.290908Z"
    }
   },
   "outputs": [
    {
     "data": {
      "text/html": [
       "<div>\n",
       "<style scoped>\n",
       "    .dataframe tbody tr th:only-of-type {\n",
       "        vertical-align: middle;\n",
       "    }\n",
       "\n",
       "    .dataframe tbody tr th {\n",
       "        vertical-align: top;\n",
       "    }\n",
       "\n",
       "    .dataframe thead th {\n",
       "        text-align: right;\n",
       "    }\n",
       "</style>\n",
       "<table border=\"1\" class=\"dataframe\">\n",
       "  <thead>\n",
       "    <tr style=\"text-align: right;\">\n",
       "      <th></th>\n",
       "      <th>View Case Files</th>\n",
       "      <th>Case Name</th>\n",
       "      <th>Case Number</th>\n",
       "      <th># of Defendants</th>\n",
       "      <th># of Victims</th>\n",
       "      <th>Case Type</th>\n",
       "    </tr>\n",
       "  </thead>\n",
       "  <tbody>\n",
       "    <tr>\n",
       "      <th>110</th>\n",
       "      <td>Case Files</td>\n",
       "      <td>USA v. Maddox, et al</td>\n",
       "      <td>6:05-cr-00240-WSS</td>\n",
       "      <td>2</td>\n",
       "      <td>1.0</td>\n",
       "      <td>Labor</td>\n",
       "    </tr>\n",
       "    <tr>\n",
       "      <th>111</th>\n",
       "      <td>Case Files</td>\n",
       "      <td>USA v. Udeozor et al</td>\n",
       "      <td>8:03-cr-00470-PJM</td>\n",
       "      <td>2</td>\n",
       "      <td>1.0</td>\n",
       "      <td>Labor</td>\n",
       "    </tr>\n",
       "  </tbody>\n",
       "</table>\n",
       "</div>"
      ],
      "text/plain": [
       "    View Case Files             Case Name        Case Number  # of Defendants  \\\n",
       "110      Case Files  USA v. Maddox, et al  6:05-cr-00240-WSS                2   \n",
       "111      Case Files  USA v. Udeozor et al  8:03-cr-00470-PJM                2   \n",
       "\n",
       "     # of Victims Case Type  \n",
       "110           1.0     Labor  \n",
       "111           1.0     Labor  "
      ]
     },
     "execution_count": 6,
     "metadata": {},
     "output_type": "execute_result"
    }
   ],
   "source": [
    "print(labor_df.shape)\n",
    "labor_df.tail(2)"
   ]
  },
  {
   "cell_type": "markdown",
   "metadata": {},
   "source": [
    "### Minor "
   ]
  },
  {
   "cell_type": "code",
   "execution_count": 12,
   "metadata": {
    "ExecuteTime": {
     "end_time": "2019-11-02T13:23:47.524614Z",
     "start_time": "2019-11-02T13:22:53.318062Z"
    }
   },
   "outputs": [],
   "source": [
    "case_type = 'Minor'\n",
    "first_part = 'http://www.humantraffickingdata.org/search?commit=Search&defendants_statutes_any_all=any&page='\n",
    "second_part = '&q%5Badult_sex_true%5D=0&q%5Bcase_name_cont%5D=&q%5Bcase_number_cont%5D=&q%5Bdefendants_arrest_age%5D=12%2C80&q%5Bdefendants_count%5D=0%2C100&q%5Bdefendants_country_of_origin_cont_any%5D%5B%5D=&q%5Bdefendants_first_name_or_defendants_last_name_matches%5D=&q%5Bdefendants_gender_cont_any%5D%5B%5D=&q%5Bdefendants_race_cont_any%5D%5B%5D=&q%5Bdefendants_restitution_gt_zero%5D=0&q%5Bdefendants_s_1028_true%5D=0&q%5Bdefendants_s_1324_true%5D=0&q%5Bdefendants_s_1328_true%5D=0&q%5Bdefendants_s_1351_true%5D=0&q%5Bdefendants_s_1425_true%5D=0&q%5Bdefendants_s_1512_true%5D=0&q%5Bdefendants_s_1546_true%5D=0&q%5Bdefendants_s_1581_to_1588_true%5D=0&q%5Bdefendants_s_1589_true%5D=0&q%5Bdefendants_s_1590_true%5D=0&q%5Bdefendants_s_1591_true%5D=0&q%5Bdefendants_s_1592_true%5D=0&q%5Bdefendants_s_1593_true%5D=0&q%5Bdefendants_s_1594_true%5D=0&q%5Bdefendants_s_1961_to_1968_true%5D=0&q%5Bdefendants_s_2251_true%5D=0&q%5Bdefendants_s_2252_true%5D=0&q%5Bdefendants_s_2260_true%5D=0&q%5Bdefendants_s_2421_to_2424_true%5D=0&q%5Bdefendants_total_sentence%5D=0%2C1200&q%5Bfed_district_number_in%5D%5B%5D=&q%5Blabor_true%5D=0&q%5Bminor_sex_true%5D=1&q%5Bnumber_victims_female_gt_zero%5D=0&q%5Bnumber_victims_foreign_gt_zero%5D=0&q%5Bnumber_victims_male_gt_zero%5D=0&q%5Bnumber_victims_minor_gt_zero%5D=0&q%5Bstart_year%5D=2000%2C2020&q%5Bstate_cont_any%5D%5B%5D=&q%5Btype_of_labor_cont_any%5D%5B%5D=&q%5Btype_of_sex_cont_any%5D%5B%5D=&q%5Bvictim_countries_name_cont_any%5D%5B%5D=&q%5Bvictims_count%5D=0%2C1000&utf8=%E2%9C%93'\n",
    "number = 28\n",
    "minor_df = get_case_df(case_type,first_part,second_part,number)"
   ]
  },
  {
   "cell_type": "code",
   "execution_count": 13,
   "metadata": {
    "ExecuteTime": {
     "end_time": "2019-11-02T13:23:47.853561Z",
     "start_time": "2019-11-02T13:23:47.823234Z"
    }
   },
   "outputs": [
    {
     "name": "stdout",
     "output_type": "stream",
     "text": [
      "(675, 6)\n"
     ]
    },
    {
     "data": {
      "text/html": [
       "<div>\n",
       "<style scoped>\n",
       "    .dataframe tbody tr th:only-of-type {\n",
       "        vertical-align: middle;\n",
       "    }\n",
       "\n",
       "    .dataframe tbody tr th {\n",
       "        vertical-align: top;\n",
       "    }\n",
       "\n",
       "    .dataframe thead th {\n",
       "        text-align: right;\n",
       "    }\n",
       "</style>\n",
       "<table border=\"1\" class=\"dataframe\">\n",
       "  <thead>\n",
       "    <tr style=\"text-align: right;\">\n",
       "      <th></th>\n",
       "      <th>View Case Files</th>\n",
       "      <th>Case Name</th>\n",
       "      <th>Case Number</th>\n",
       "      <th># of Defendants</th>\n",
       "      <th># of Victims</th>\n",
       "      <th>Case Type</th>\n",
       "    </tr>\n",
       "  </thead>\n",
       "  <tbody>\n",
       "    <tr>\n",
       "      <th>673</th>\n",
       "      <td>Case Files</td>\n",
       "      <td>USA v. Sewell et al</td>\n",
       "      <td>5:10-cr-00731-CDJ</td>\n",
       "      <td>2</td>\n",
       "      <td>5.0</td>\n",
       "      <td>Minor</td>\n",
       "    </tr>\n",
       "    <tr>\n",
       "      <th>674</th>\n",
       "      <td>NaN</td>\n",
       "      <td>USA v. Estrada-Tepal et al</td>\n",
       "      <td>1:14-cr-00105-MKB</td>\n",
       "      <td>4</td>\n",
       "      <td>5.0</td>\n",
       "      <td>Minor</td>\n",
       "    </tr>\n",
       "  </tbody>\n",
       "</table>\n",
       "</div>"
      ],
      "text/plain": [
       "    View Case Files                   Case Name        Case Number  \\\n",
       "673      Case Files         USA v. Sewell et al  5:10-cr-00731-CDJ   \n",
       "674             NaN  USA v. Estrada-Tepal et al  1:14-cr-00105-MKB   \n",
       "\n",
       "     # of Defendants  # of Victims Case Type  \n",
       "673                2           5.0     Minor  \n",
       "674                4           5.0     Minor  "
      ]
     },
     "execution_count": 13,
     "metadata": {},
     "output_type": "execute_result"
    }
   ],
   "source": [
    "print(minor_df.shape)\n",
    "minor_df.tail(2)"
   ]
  },
  {
   "cell_type": "markdown",
   "metadata": {},
   "source": [
    "### Adult"
   ]
  },
  {
   "cell_type": "code",
   "execution_count": 14,
   "metadata": {
    "ExecuteTime": {
     "end_time": "2019-11-02T13:24:16.320224Z",
     "start_time": "2019-11-02T13:23:48.219485Z"
    }
   },
   "outputs": [],
   "source": [
    "case_type = 'Adult'\n",
    "first_part = 'http://www.humantraffickingdata.org/search?commit=Search&defendants_statutes_any_all=any&page='\n",
    "second_part = '&q%5Badult_sex_true%5D=1&q%5Bcase_name_cont%5D=&q%5Bcase_number_cont%5D=&q%5Bdefendants_arrest_age%5D=12%2C80&q%5Bdefendants_count%5D=0%2C100&q%5Bdefendants_country_of_origin_cont_any%5D%5B%5D=&q%5Bdefendants_first_name_or_defendants_last_name_matches%5D=&q%5Bdefendants_gender_cont_any%5D%5B%5D=&q%5Bdefendants_race_cont_any%5D%5B%5D=&q%5Bdefendants_restitution_gt_zero%5D=0&q%5Bdefendants_s_1028_true%5D=0&q%5Bdefendants_s_1324_true%5D=0&q%5Bdefendants_s_1328_true%5D=0&q%5Bdefendants_s_1351_true%5D=0&q%5Bdefendants_s_1425_true%5D=0&q%5Bdefendants_s_1512_true%5D=0&q%5Bdefendants_s_1546_true%5D=0&q%5Bdefendants_s_1581_to_1588_true%5D=0&q%5Bdefendants_s_1589_true%5D=0&q%5Bdefendants_s_1590_true%5D=0&q%5Bdefendants_s_1591_true%5D=0&q%5Bdefendants_s_1592_true%5D=0&q%5Bdefendants_s_1593_true%5D=0&q%5Bdefendants_s_1594_true%5D=0&q%5Bdefendants_s_1961_to_1968_true%5D=0&q%5Bdefendants_s_2251_true%5D=0&q%5Bdefendants_s_2252_true%5D=0&q%5Bdefendants_s_2260_true%5D=0&q%5Bdefendants_s_2421_to_2424_true%5D=0&q%5Bdefendants_total_sentence%5D=0%2C1200&q%5Bfed_district_number_in%5D%5B%5D=&q%5Blabor_true%5D=0&q%5Bminor_sex_true%5D=0&q%5Bnumber_victims_female_gt_zero%5D=0&q%5Bnumber_victims_foreign_gt_zero%5D=0&q%5Bnumber_victims_male_gt_zero%5D=0&q%5Bnumber_victims_minor_gt_zero%5D=0&q%5Bstart_year%5D=2000%2C2020&q%5Bstate_cont_any%5D%5B%5D=&q%5Btype_of_labor_cont_any%5D%5B%5D=&q%5Btype_of_sex_cont_any%5D%5B%5D=&q%5Bvictim_countries_name_cont_any%5D%5B%5D=&q%5Bvictims_count%5D=0%2C1000&utf8=%E2%9C%93'\n",
    "number = 15\n",
    "adult_df = get_case_df(case_type,first_part,second_part,number)"
   ]
  },
  {
   "cell_type": "code",
   "execution_count": 15,
   "metadata": {
    "ExecuteTime": {
     "end_time": "2019-11-02T13:24:16.451421Z",
     "start_time": "2019-11-02T13:24:16.440623Z"
    }
   },
   "outputs": [
    {
     "name": "stdout",
     "output_type": "stream",
     "text": [
      "(350, 6)\n"
     ]
    },
    {
     "data": {
      "text/html": [
       "<div>\n",
       "<style scoped>\n",
       "    .dataframe tbody tr th:only-of-type {\n",
       "        vertical-align: middle;\n",
       "    }\n",
       "\n",
       "    .dataframe tbody tr th {\n",
       "        vertical-align: top;\n",
       "    }\n",
       "\n",
       "    .dataframe thead th {\n",
       "        text-align: right;\n",
       "    }\n",
       "</style>\n",
       "<table border=\"1\" class=\"dataframe\">\n",
       "  <thead>\n",
       "    <tr style=\"text-align: right;\">\n",
       "      <th></th>\n",
       "      <th>View Case Files</th>\n",
       "      <th>Case Name</th>\n",
       "      <th>Case Number</th>\n",
       "      <th># of Defendants</th>\n",
       "      <th># of Victims</th>\n",
       "      <th>Case Type</th>\n",
       "    </tr>\n",
       "  </thead>\n",
       "  <tbody>\n",
       "    <tr>\n",
       "      <th>348</th>\n",
       "      <td>Case Files</td>\n",
       "      <td>USA v. Ford et al</td>\n",
       "      <td>3:14-cr-00045-HZ</td>\n",
       "      <td>2</td>\n",
       "      <td>6.0</td>\n",
       "      <td>Adult</td>\n",
       "    </tr>\n",
       "    <tr>\n",
       "      <th>349</th>\n",
       "      <td>Case Files</td>\n",
       "      <td>USA v. Smith (Devin Edward)</td>\n",
       "      <td>5:14-cr-20303-JCO-DRG</td>\n",
       "      <td>1</td>\n",
       "      <td>4.0</td>\n",
       "      <td>Adult</td>\n",
       "    </tr>\n",
       "  </tbody>\n",
       "</table>\n",
       "</div>"
      ],
      "text/plain": [
       "    View Case Files                    Case Name            Case Number  \\\n",
       "348      Case Files            USA v. Ford et al       3:14-cr-00045-HZ   \n",
       "349      Case Files  USA v. Smith (Devin Edward)  5:14-cr-20303-JCO-DRG   \n",
       "\n",
       "     # of Defendants  # of Victims Case Type  \n",
       "348                2           6.0     Adult  \n",
       "349                1           4.0     Adult  "
      ]
     },
     "execution_count": 15,
     "metadata": {},
     "output_type": "execute_result"
    }
   ],
   "source": [
    "print(adult_df.shape)\n",
    "adult_df.tail(2)"
   ]
  },
  {
   "cell_type": "markdown",
   "metadata": {},
   "source": [
    "Combine DFs"
   ]
  },
  {
   "cell_type": "code",
   "execution_count": 16,
   "metadata": {
    "ExecuteTime": {
     "end_time": "2019-11-02T13:27:32.359217Z",
     "start_time": "2019-11-02T13:27:32.348549Z"
    }
   },
   "outputs": [],
   "source": [
    "case_df=pd.concat([labor_df,minor_df,adult_df],ignore_index=True)"
   ]
  },
  {
   "cell_type": "code",
   "execution_count": 17,
   "metadata": {
    "ExecuteTime": {
     "end_time": "2019-11-02T13:27:39.342726Z",
     "start_time": "2019-11-02T13:27:39.338192Z"
    }
   },
   "outputs": [
    {
     "data": {
      "text/plain": [
       "(1137, 6)"
      ]
     },
     "execution_count": 17,
     "metadata": {},
     "output_type": "execute_result"
    }
   ],
   "source": [
    "case_df.shape"
   ]
  },
  {
   "cell_type": "markdown",
   "metadata": {},
   "source": [
    "*create case summary*"
   ]
  },
  {
   "cell_type": "code",
   "execution_count": 18,
   "metadata": {
    "ExecuteTime": {
     "end_time": "2019-11-02T13:34:51.932759Z",
     "start_time": "2019-11-02T13:34:51.927011Z"
    }
   },
   "outputs": [
    {
     "data": {
      "text/plain": [
       "1137"
      ]
     },
     "execution_count": 18,
     "metadata": {},
     "output_type": "execute_result"
    }
   ],
   "source": [
    "case_no_list=case_df['Case Number'].values\n",
    "len(case_no_list)"
   ]
  },
  {
   "cell_type": "code",
   "execution_count": 19,
   "metadata": {
    "ExecuteTime": {
     "end_time": "2019-11-02T13:44:40.108170Z",
     "start_time": "2019-11-02T13:36:11.660256Z"
    }
   },
   "outputs": [],
   "source": [
    "case_summary=[]\n",
    "for case in case_no_list:\n",
    "    case_url = 'http://www.humantraffickingdata.org/search/'+case\n",
    "    r  = requests.get(case_url)\n",
    "    soup = BeautifulSoup(r.text)\n",
    "    case_summary.append(soup.find('p').get_text())"
   ]
  },
  {
   "cell_type": "code",
   "execution_count": 20,
   "metadata": {
    "ExecuteTime": {
     "end_time": "2019-11-02T13:44:40.544834Z",
     "start_time": "2019-11-02T13:44:40.539285Z"
    }
   },
   "outputs": [],
   "source": [
    "case_df['Case Summary'] = case_summary"
   ]
  },
  {
   "cell_type": "code",
   "execution_count": 21,
   "metadata": {
    "ExecuteTime": {
     "end_time": "2019-11-02T13:44:41.006909Z",
     "start_time": "2019-11-02T13:44:40.981989Z"
    }
   },
   "outputs": [
    {
     "data": {
      "text/html": [
       "<div>\n",
       "<style scoped>\n",
       "    .dataframe tbody tr th:only-of-type {\n",
       "        vertical-align: middle;\n",
       "    }\n",
       "\n",
       "    .dataframe tbody tr th {\n",
       "        vertical-align: top;\n",
       "    }\n",
       "\n",
       "    .dataframe thead th {\n",
       "        text-align: right;\n",
       "    }\n",
       "</style>\n",
       "<table border=\"1\" class=\"dataframe\">\n",
       "  <thead>\n",
       "    <tr style=\"text-align: right;\">\n",
       "      <th></th>\n",
       "      <th>View Case Files</th>\n",
       "      <th>Case Name</th>\n",
       "      <th>Case Number</th>\n",
       "      <th># of Defendants</th>\n",
       "      <th># of Victims</th>\n",
       "      <th>Case Type</th>\n",
       "      <th>Case Summary</th>\n",
       "    </tr>\n",
       "  </thead>\n",
       "  <tbody>\n",
       "    <tr>\n",
       "      <th>0</th>\n",
       "      <td>Case Files</td>\n",
       "      <td>USA v. Botsvynyuk</td>\n",
       "      <td>2:10-cr-00159-PD</td>\n",
       "      <td>5</td>\n",
       "      <td>30.0</td>\n",
       "      <td>Labor</td>\n",
       "      <td>The defendants, five Ukrainian brothers, recru...</td>\n",
       "    </tr>\n",
       "    <tr>\n",
       "      <th>1</th>\n",
       "      <td>Case Files</td>\n",
       "      <td>USA v. Kalu</td>\n",
       "      <td>1:12-cr-00106</td>\n",
       "      <td>2</td>\n",
       "      <td>18.0</td>\n",
       "      <td>Labor</td>\n",
       "      <td>The defendants created an educational institut...</td>\n",
       "    </tr>\n",
       "    <tr>\n",
       "      <th>2</th>\n",
       "      <td>Case Files</td>\n",
       "      <td>USA v. Lee, et al</td>\n",
       "      <td>1:01-cr-00132-SOM-BMK</td>\n",
       "      <td>3</td>\n",
       "      <td>21.0</td>\n",
       "      <td>Labor</td>\n",
       "      <td>The defendants operated a garment factory usin...</td>\n",
       "    </tr>\n",
       "  </tbody>\n",
       "</table>\n",
       "</div>"
      ],
      "text/plain": [
       "  View Case Files          Case Name            Case Number  # of Defendants  \\\n",
       "0      Case Files  USA v. Botsvynyuk       2:10-cr-00159-PD                5   \n",
       "1      Case Files        USA v. Kalu          1:12-cr-00106                2   \n",
       "2      Case Files  USA v. Lee, et al  1:01-cr-00132-SOM-BMK                3   \n",
       "\n",
       "   # of Victims Case Type                                       Case Summary  \n",
       "0          30.0     Labor  The defendants, five Ukrainian brothers, recru...  \n",
       "1          18.0     Labor  The defendants created an educational institut...  \n",
       "2          21.0     Labor  The defendants operated a garment factory usin...  "
      ]
     },
     "execution_count": 21,
     "metadata": {},
     "output_type": "execute_result"
    }
   ],
   "source": [
    "case_df.head(3)"
   ]
  },
  {
   "cell_type": "code",
   "execution_count": 22,
   "metadata": {
    "ExecuteTime": {
     "end_time": "2019-11-02T13:44:50.318801Z",
     "start_time": "2019-11-02T13:44:50.301227Z"
    }
   },
   "outputs": [
    {
     "data": {
      "text/html": [
       "<div>\n",
       "<style scoped>\n",
       "    .dataframe tbody tr th:only-of-type {\n",
       "        vertical-align: middle;\n",
       "    }\n",
       "\n",
       "    .dataframe tbody tr th {\n",
       "        vertical-align: top;\n",
       "    }\n",
       "\n",
       "    .dataframe thead th {\n",
       "        text-align: right;\n",
       "    }\n",
       "</style>\n",
       "<table border=\"1\" class=\"dataframe\">\n",
       "  <thead>\n",
       "    <tr style=\"text-align: right;\">\n",
       "      <th></th>\n",
       "      <th>View Case Files</th>\n",
       "      <th>Case Name</th>\n",
       "      <th>Case Number</th>\n",
       "      <th># of Defendants</th>\n",
       "      <th># of Victims</th>\n",
       "      <th>Case Type</th>\n",
       "      <th>Case Summary</th>\n",
       "    </tr>\n",
       "  </thead>\n",
       "  <tbody>\n",
       "    <tr>\n",
       "      <th>1132</th>\n",
       "      <td>Case Files</td>\n",
       "      <td>USA v. Bunnell</td>\n",
       "      <td>2:14-cr-00119-DGC</td>\n",
       "      <td>1</td>\n",
       "      <td>0.0</td>\n",
       "      <td>Adult</td>\n",
       "      <td>The defendant contacted an undercover federal ...</td>\n",
       "    </tr>\n",
       "    <tr>\n",
       "      <th>1133</th>\n",
       "      <td>Case Files</td>\n",
       "      <td>USA v. Mack (Jeremy) et al</td>\n",
       "      <td>1:13-cr-00278-SL</td>\n",
       "      <td>2</td>\n",
       "      <td>4.0</td>\n",
       "      <td>Adult</td>\n",
       "      <td>The defendants were drug dealers who sold a mi...</td>\n",
       "    </tr>\n",
       "    <tr>\n",
       "      <th>1134</th>\n",
       "      <td>Case Files</td>\n",
       "      <td>USA v. Roy</td>\n",
       "      <td>4:13-cr-00010-JLH</td>\n",
       "      <td>2</td>\n",
       "      <td>4.0</td>\n",
       "      <td>Adult</td>\n",
       "      <td>The defendants transported four victims from I...</td>\n",
       "    </tr>\n",
       "    <tr>\n",
       "      <th>1135</th>\n",
       "      <td>Case Files</td>\n",
       "      <td>USA v. Ford et al</td>\n",
       "      <td>3:14-cr-00045-HZ</td>\n",
       "      <td>2</td>\n",
       "      <td>6.0</td>\n",
       "      <td>Adult</td>\n",
       "      <td>Defendant Ford posed as a modeling executive s...</td>\n",
       "    </tr>\n",
       "    <tr>\n",
       "      <th>1136</th>\n",
       "      <td>Case Files</td>\n",
       "      <td>USA v. Smith (Devin Edward)</td>\n",
       "      <td>5:14-cr-20303-JCO-DRG</td>\n",
       "      <td>1</td>\n",
       "      <td>4.0</td>\n",
       "      <td>Adult</td>\n",
       "      <td>The defendant forced three adult victims and o...</td>\n",
       "    </tr>\n",
       "  </tbody>\n",
       "</table>\n",
       "</div>"
      ],
      "text/plain": [
       "     View Case Files                    Case Name            Case Number  \\\n",
       "1132      Case Files               USA v. Bunnell      2:14-cr-00119-DGC   \n",
       "1133      Case Files   USA v. Mack (Jeremy) et al       1:13-cr-00278-SL   \n",
       "1134      Case Files                   USA v. Roy      4:13-cr-00010-JLH   \n",
       "1135      Case Files            USA v. Ford et al       3:14-cr-00045-HZ   \n",
       "1136      Case Files  USA v. Smith (Devin Edward)  5:14-cr-20303-JCO-DRG   \n",
       "\n",
       "      # of Defendants  # of Victims Case Type  \\\n",
       "1132                1           0.0     Adult   \n",
       "1133                2           4.0     Adult   \n",
       "1134                2           4.0     Adult   \n",
       "1135                2           6.0     Adult   \n",
       "1136                1           4.0     Adult   \n",
       "\n",
       "                                           Case Summary  \n",
       "1132  The defendant contacted an undercover federal ...  \n",
       "1133  The defendants were drug dealers who sold a mi...  \n",
       "1134  The defendants transported four victims from I...  \n",
       "1135  Defendant Ford posed as a modeling executive s...  \n",
       "1136  The defendant forced three adult victims and o...  "
      ]
     },
     "execution_count": 22,
     "metadata": {},
     "output_type": "execute_result"
    }
   ],
   "source": [
    "case_df.tail()"
   ]
  },
  {
   "cell_type": "code",
   "execution_count": 23,
   "metadata": {
    "ExecuteTime": {
     "end_time": "2019-11-02T13:51:57.251171Z",
     "start_time": "2019-11-02T13:51:57.209573Z"
    }
   },
   "outputs": [],
   "source": [
    "case_df.to_csv('case_files.csv')"
   ]
  },
  {
   "cell_type": "code",
   "execution_count": null,
   "metadata": {},
   "outputs": [],
   "source": []
  }
 ],
 "metadata": {
  "kernelspec": {
   "display_name": "Python 3",
   "language": "python",
   "name": "python3"
  },
  "language_info": {
   "codemirror_mode": {
    "name": "ipython",
    "version": 3
   },
   "file_extension": ".py",
   "mimetype": "text/x-python",
   "name": "python",
   "nbconvert_exporter": "python",
   "pygments_lexer": "ipython3",
   "version": "3.7.5"
  },
  "toc": {
   "base_numbering": 1,
   "nav_menu": {},
   "number_sections": true,
   "sideBar": true,
   "skip_h1_title": false,
   "title_cell": "Table of Contents",
   "title_sidebar": "Contents",
   "toc_cell": false,
   "toc_position": {},
   "toc_section_display": true,
   "toc_window_display": false
  },
  "varInspector": {
   "cols": {
    "lenName": 16,
    "lenType": 16,
    "lenVar": 40
   },
   "kernels_config": {
    "python": {
     "delete_cmd_postfix": "",
     "delete_cmd_prefix": "del ",
     "library": "var_list.py",
     "varRefreshCmd": "print(var_dic_list())"
    },
    "r": {
     "delete_cmd_postfix": ") ",
     "delete_cmd_prefix": "rm(",
     "library": "var_list.r",
     "varRefreshCmd": "cat(var_dic_list()) "
    }
   },
   "types_to_exclude": [
    "module",
    "function",
    "builtin_function_or_method",
    "instance",
    "_Feature"
   ],
   "window_display": false
  }
 },
 "nbformat": 4,
 "nbformat_minor": 2
}
