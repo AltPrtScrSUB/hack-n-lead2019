{
 "cells": [
  {
   "cell_type": "markdown",
   "metadata": {},
   "source": [
    "## Unite all data"
   ]
  },
  {
   "cell_type": "code",
   "execution_count": 4,
   "metadata": {},
   "outputs": [
    {
     "data": {
      "text/plain": [
       "array(['Notrelated', 'Labor', 'Adult', 'Minor'], dtype=object)"
      ]
     },
     "execution_count": 4,
     "metadata": {},
     "output_type": "execute_result"
    }
   ],
   "source": [
    "import pandas as pd\n",
    "from gensim.models import Doc2Vec\n",
    "from sklearn import utils\n",
    "from sklearn.model_selection import train_test_split\n",
    "import gensim\n",
    "from sklearn.linear_model import LogisticRegression\n",
    "from gensim.models.doc2vec import TaggedDocument\n",
    "import re\n",
    "import seaborn as sns\n",
    "import matplotlib.pyplot as plt\n",
    "import numpy as np\n",
    "import nltk\n",
    "import multiprocessing\n",
    "from sklearn.metrics import accuracy_score, f1_score\n",
    "\n",
    "cores = multiprocessing.cpu_count()\n",
    "\n",
    "positives=pd.read_csv('Data/positive_combined_withreal.csv')\n",
    "cases=pd.read_csv('Data/case_files.csv')\n",
    "\n",
    "positives['class']=positives['class'].str.replace(' ','')\n",
    "cases_clean=pd.DataFrame(data={'class':cases['Case Type'],'complain':cases['Case Summary']})\n",
    "\n",
    "df=pd.concat([positives,cases_clean], axis= 0)\n",
    "df['class']=df['class'].apply(lambda x: x[0].upper()+x[1:])\n",
    "df['class'].unique()"
   ]
  },
  {
   "cell_type": "markdown",
   "metadata": {},
   "source": [
    "## Text preprocessing"
   ]
  },
  {
   "cell_type": "code",
   "execution_count": 5,
   "metadata": {},
   "outputs": [
    {
     "name": "stdout",
     "output_type": "stream",
     "text": [
      "[nltk_data] Downloading package punkt to /Users/maria/nltk_data...\n",
      "[nltk_data]   Package punkt is already up-to-date!\n"
     ]
    }
   ],
   "source": [
    "nltk.download('punkt')\n",
    "from nltk.corpus import stopwords\n",
    "def tokenize_text(text):\n",
    "    tokens = []\n",
    "    for sent in nltk.sent_tokenize(text):\n",
    "        for word in nltk.word_tokenize(sent):\n",
    "            if len(word) < 2:\n",
    "                continue\n",
    "            tokens.append(word.lower())\n",
    "    return tokens"
   ]
  },
  {
   "cell_type": "code",
   "execution_count": 6,
   "metadata": {},
   "outputs": [],
   "source": [
    "pd.set_option('display.max_colwidth', -1)\n",
    "df=df.applymap(lambda x: re.sub(\"[^a-zA-Z0-9 ]\",'',str(x)))\n",
    "df['complain']=df['complain'].apply(lambda x: re.sub('notrelated|nannan','',x))\n",
    "df=df.sample(frac=1) #randomize our groups"
   ]
  },
  {
   "cell_type": "code",
   "execution_count": 7,
   "metadata": {},
   "outputs": [
    {
     "data": {
      "text/html": [
       "<div>\n",
       "<style scoped>\n",
       "    .dataframe tbody tr th:only-of-type {\n",
       "        vertical-align: middle;\n",
       "    }\n",
       "\n",
       "    .dataframe tbody tr th {\n",
       "        vertical-align: top;\n",
       "    }\n",
       "\n",
       "    .dataframe thead th {\n",
       "        text-align: right;\n",
       "    }\n",
       "</style>\n",
       "<table border=\"1\" class=\"dataframe\">\n",
       "  <thead>\n",
       "    <tr style=\"text-align: right;\">\n",
       "      <th></th>\n",
       "      <th>class</th>\n",
       "      <th>complain</th>\n",
       "    </tr>\n",
       "  </thead>\n",
       "  <tbody>\n",
       "    <tr>\n",
       "      <th>223</th>\n",
       "      <td>Notrelated</td>\n",
       "      <td>Pay is on low side of average Smallish company with bad HR habits forced shutdowns during XmasNew Year with little 12 weeks notice cannot make plans Review process barely controlled in timing and Budgets tight  due to business or other investments Custom ERPMRP systems which are dated</td>\n",
       "    </tr>\n",
       "    <tr>\n",
       "      <th>215</th>\n",
       "      <td>Notrelated</td>\n",
       "      <td>1 Manipulative environment I was apart of Paramit for several years and throughout the entirety of my duration I have contributed so much to the company In the recent years Paramit has become short staffed read other reviews to see why those who value their mental health left and has thus asked its current employees to step up and take over more responsibilities often times forcing many of its workers to work overtime Yes a company cant FORCE you to work overtime but if you dont work overtime they passively aggressively comment about your progress the next work day for falling behind on assignments They internalize you declining to work over time and hold this against you for a LONG time because you refused their request more like demand to work overtime Working overtime should be MY choice and I should NOT be punished for only working 40 HOURS if I choose to Other people have families dependents situations outside of work that requires their attention They should not be allowed to hold the inability to work overtime EVERY WEEK over our heads 2 Dismal Opportunities to Raise Salary Dont even bother trying to get a raise at this company They LOVE taking advantage of unaware foreign employees by paying them such laughable wages The amount of work they force upon you because theyre short staffed and cant seem to find new employees to stay long enough is NOT worth the pathetic pay When I worked here I played a very large role in my department to maintain customer satisfaction and constantly exhausted myself to ensure the quality of my work After recognizing that the amount of responsibilities I had at that time versus from when I first started had grown exponentially as did my skill set human capital and self worth I requested for a raise only to be met with a raise of MERE CENTS This was a wake up call for me This was how much I was worth to them If you are a current employee I recommend you to search online for the average salary of your line of work to see how much you actually are worth and find a different place that sees you for what youre skills and experience Im glad I did This company obviously doesnt value its employees evident in the narrow career growth opportunities 3 TERRIBLE MANAGEMENT There is such clear favoritism in this work place to the point of ostensible discrimination If you arent a certain ethnicity good luck with getting treated with respect There was a point in time where the manager tried to BAN THE USAGE OF FOREIGN LANGUAGES This is America and I am protected under the 1st Amendment of the US CONSTITUTION to SPEAK HOWEVER I WANT IN WHATEVER DIALECT I want Even if I was not apart of the majority ethnic group that action alone was already very questionable The fact that they tried to strip away certain GUARANTEED rights should already be an indicative red flag if you havent spotted any in my earlier points Thankfully HR was able to prevent an unconstitutional demand but that could have prompted legal action so if you are a current employee and this happens to you take action against this immediately Know your rights The toxicity of this place is enough to make anyone miserable Not only is management very unorganized and run poorly but they also have the tendency to take their anger out on their employees They REALLY make the effort to belittle you if you make a mistake and treat you with such blatant disrespect No I am not 3 years old No I do not need you to talk to me in a condescending voice Theres a difference between constructive criticism and insulting employees The amount of sheer disrespect I have experienced by the management here is honestly shocking and disgusting</td>\n",
       "    </tr>\n",
       "    <tr>\n",
       "      <th>152</th>\n",
       "      <td>Notrelated</td>\n",
       "      <td>Hectic work schedule strict office clockin timings late night and weekend working expected during commercialization comparatively low pay</td>\n",
       "    </tr>\n",
       "    <tr>\n",
       "      <th>3</th>\n",
       "      <td>Notrelated</td>\n",
       "      <td>I have nothing bad to report</td>\n",
       "    </tr>\n",
       "    <tr>\n",
       "      <th>62</th>\n",
       "      <td>Notrelated</td>\n",
       "      <td>None that come to mind at the moment</td>\n",
       "    </tr>\n",
       "    <tr>\n",
       "      <th>12</th>\n",
       "      <td>Notrelated</td>\n",
       "      <td>Many formal leadership trainings are not accessible due to tight budgets and not enforced by corporate</td>\n",
       "    </tr>\n",
       "    <tr>\n",
       "      <th>2</th>\n",
       "      <td>Notrelated</td>\n",
       "      <td>lot of turnover in the front desk department Favoritism within certain heads of department Higher ups do not seem genuine Overworked with 4 jobs at once and not enough employees to get support Claims to get 7 free nights but rarely ever gets approved Open door policy however your concerns are overlooked</td>\n",
       "    </tr>\n",
       "    <tr>\n",
       "      <th>145</th>\n",
       "      <td>Notrelated</td>\n",
       "      <td>Communication doesnt happen easily You have to chase down pay on a regular basis TERRIBLE BENEFITS No PTO family health insurance cost more that you get paidnan</td>\n",
       "    </tr>\n",
       "    <tr>\n",
       "      <th>267</th>\n",
       "      <td>Notrelated</td>\n",
       "      <td>Lack of structure cooperate looks down on workers and talk to them in a very condescending way Very unprofessional they will fire you over the phone Without any valid reason</td>\n",
       "    </tr>\n",
       "    <tr>\n",
       "      <th>54</th>\n",
       "      <td>Notrelated</td>\n",
       "      <td>Those in power ie managers etc are all that matters Lower level good luck</td>\n",
       "    </tr>\n",
       "  </tbody>\n",
       "</table>\n",
       "</div>"
      ],
      "text/plain": [
       "          class  \\\n",
       "223  Notrelated   \n",
       "215  Notrelated   \n",
       "152  Notrelated   \n",
       "3    Notrelated   \n",
       "62   Notrelated   \n",
       "12   Notrelated   \n",
       "2    Notrelated   \n",
       "145  Notrelated   \n",
       "267  Notrelated   \n",
       "54   Notrelated   \n",
       "\n",
       "                                                                                                                                                                                                                                                                                                                                                                                                                                                                                                                                                                                                                                                                                                                                                                                                                                                                                                                                                                                                                                                                                                                                                                                                                                                                                                                                                                                                                                                                                                                                                                                                                                                                                                                                                                                                                                                                                                                                                                                                                                                                                                                                                                                                                                                                                                                                                                                                                                                                                                                                                                                                                                                                                                                                                                                                                                                                                                                                                                                                                                                                                                                                                                                                                                                                                                                                                                                                                                                                                                                                                                                                                                                                                                                                                                                                          complain  \n",
       "223  Pay is on low side of average Smallish company with bad HR habits forced shutdowns during XmasNew Year with little 12 weeks notice cannot make plans Review process barely controlled in timing and Budgets tight  due to business or other investments Custom ERPMRP systems which are dated                                                                                                                                                                                                                                                                                                                                                                                                                                                                                                                                                                                                                                                                                                                                                                                                                                                                                                                                                                                                                                                                                                                                                                                                                                                                                                                                                                                                                                                                                                                                                                                                                                                                                                                                                                                                                                                                                                                                                                                                                                                                                                                                                                                                                                                                                                                                                                                                                                                                                                                                                                                                                                                                                                                                                                                                                                                                                                                                                                                                                                                                                                                                                                                                                                                                                                                                                                                                                                                                                                                  \n",
       "215  1 Manipulative environment I was apart of Paramit for several years and throughout the entirety of my duration I have contributed so much to the company In the recent years Paramit has become short staffed read other reviews to see why those who value their mental health left and has thus asked its current employees to step up and take over more responsibilities often times forcing many of its workers to work overtime Yes a company cant FORCE you to work overtime but if you dont work overtime they passively aggressively comment about your progress the next work day for falling behind on assignments They internalize you declining to work over time and hold this against you for a LONG time because you refused their request more like demand to work overtime Working overtime should be MY choice and I should NOT be punished for only working 40 HOURS if I choose to Other people have families dependents situations outside of work that requires their attention They should not be allowed to hold the inability to work overtime EVERY WEEK over our heads 2 Dismal Opportunities to Raise Salary Dont even bother trying to get a raise at this company They LOVE taking advantage of unaware foreign employees by paying them such laughable wages The amount of work they force upon you because theyre short staffed and cant seem to find new employees to stay long enough is NOT worth the pathetic pay When I worked here I played a very large role in my department to maintain customer satisfaction and constantly exhausted myself to ensure the quality of my work After recognizing that the amount of responsibilities I had at that time versus from when I first started had grown exponentially as did my skill set human capital and self worth I requested for a raise only to be met with a raise of MERE CENTS This was a wake up call for me This was how much I was worth to them If you are a current employee I recommend you to search online for the average salary of your line of work to see how much you actually are worth and find a different place that sees you for what youre skills and experience Im glad I did This company obviously doesnt value its employees evident in the narrow career growth opportunities 3 TERRIBLE MANAGEMENT There is such clear favoritism in this work place to the point of ostensible discrimination If you arent a certain ethnicity good luck with getting treated with respect There was a point in time where the manager tried to BAN THE USAGE OF FOREIGN LANGUAGES This is America and I am protected under the 1st Amendment of the US CONSTITUTION to SPEAK HOWEVER I WANT IN WHATEVER DIALECT I want Even if I was not apart of the majority ethnic group that action alone was already very questionable The fact that they tried to strip away certain GUARANTEED rights should already be an indicative red flag if you havent spotted any in my earlier points Thankfully HR was able to prevent an unconstitutional demand but that could have prompted legal action so if you are a current employee and this happens to you take action against this immediately Know your rights The toxicity of this place is enough to make anyone miserable Not only is management very unorganized and run poorly but they also have the tendency to take their anger out on their employees They REALLY make the effort to belittle you if you make a mistake and treat you with such blatant disrespect No I am not 3 years old No I do not need you to talk to me in a condescending voice Theres a difference between constructive criticism and insulting employees The amount of sheer disrespect I have experienced by the management here is honestly shocking and disgusting  \n",
       "152  Hectic work schedule strict office clockin timings late night and weekend working expected during commercialization comparatively low pay                                                                                                                                                                                                                                                                                                                                                                                                                                                                                                                                                                                                                                                                                                                                                                                                                                                                                                                                                                                                                                                                                                                                                                                                                                                                                                                                                                                                                                                                                                                                                                                                                                                                                                                                                                                                                                                                                                                                                                                                                                                                                                                                                                                                                                                                                                                                                                                                                                                                                                                                                                                                                                                                                                                                                                                                                                                                                                                                                                                                                                                                                                                                                                                                                                                                                                                                                                                                                                                                                                                                                                                                                                                                      \n",
       "3    I have nothing bad to report                                                                                                                                                                                                                                                                                                                                                                                                                                                                                                                                                                                                                                                                                                                                                                                                                                                                                                                                                                                                                                                                                                                                                                                                                                                                                                                                                                                                                                                                                                                                                                                                                                                                                                                                                                                                                                                                                                                                                                                                                                                                                                                                                                                                                                                                                                                                                                                                                                                                                                                                                                                                                                                                                                                                                                                                                                                                                                                                                                                                                                                                                                                                                                                                                                                                                                                                                                                                                                                                                                                                                                                                                                                                                                                                                                                   \n",
       "62   None that come to mind at the moment                                                                                                                                                                                                                                                                                                                                                                                                                                                                                                                                                                                                                                                                                                                                                                                                                                                                                                                                                                                                                                                                                                                                                                                                                                                                                                                                                                                                                                                                                                                                                                                                                                                                                                                                                                                                                                                                                                                                                                                                                                                                                                                                                                                                                                                                                                                                                                                                                                                                                                                                                                                                                                                                                                                                                                                                                                                                                                                                                                                                                                                                                                                                                                                                                                                                                                                                                                                                                                                                                                                                                                                                                                                                                                                                                                           \n",
       "12   Many formal leadership trainings are not accessible due to tight budgets and not enforced by corporate                                                                                                                                                                                                                                                                                                                                                                                                                                                                                                                                                                                                                                                                                                                                                                                                                                                                                                                                                                                                                                                                                                                                                                                                                                                                                                                                                                                                                                                                                                                                                                                                                                                                                                                                                                                                                                                                                                                                                                                                                                                                                                                                                                                                                                                                                                                                                                                                                                                                                                                                                                                                                                                                                                                                                                                                                                                                                                                                                                                                                                                                                                                                                                                                                                                                                                                                                                                                                                                                                                                                                                                                                                                                                                         \n",
       "2    lot of turnover in the front desk department Favoritism within certain heads of department Higher ups do not seem genuine Overworked with 4 jobs at once and not enough employees to get support Claims to get 7 free nights but rarely ever gets approved Open door policy however your concerns are overlooked                                                                                                                                                                                                                                                                                                                                                                                                                                                                                                                                                                                                                                                                                                                                                                                                                                                                                                                                                                                                                                                                                                                                                                                                                                                                                                                                                                                                                                                                                                                                                                                                                                                                                                                                                                                                                                                                                                                                                                                                                                                                                                                                                                                                                                                                                                                                                                                                                                                                                                                                                                                                                                                                                                                                                                                                                                                                                                                                                                                                                                                                                                                                                                                                                                                                                                                                                                                                                                                                                               \n",
       "145  Communication doesnt happen easily You have to chase down pay on a regular basis TERRIBLE BENEFITS No PTO family health insurance cost more that you get paidnan                                                                                                                                                                                                                                                                                                                                                                                                                                                                                                                                                                                                                                                                                                                                                                                                                                                                                                                                                                                                                                                                                                                                                                                                                                                                                                                                                                                                                                                                                                                                                                                                                                                                                                                                                                                                                                                                                                                                                                                                                                                                                                                                                                                                                                                                                                                                                                                                                                                                                                                                                                                                                                                                                                                                                                                                                                                                                                                                                                                                                                                                                                                                                                                                                                                                                                                                                                                                                                                                                                                                                                                                                                               \n",
       "267  Lack of structure cooperate looks down on workers and talk to them in a very condescending way Very unprofessional they will fire you over the phone Without any valid reason                                                                                                                                                                                                                                                                                                                                                                                                                                                                                                                                                                                                                                                                                                                                                                                                                                                                                                                                                                                                                                                                                                                                                                                                                                                                                                                                                                                                                                                                                                                                                                                                                                                                                                                                                                                                                                                                                                                                                                                                                                                                                                                                                                                                                                                                                                                                                                                                                                                                                                                                                                                                                                                                                                                                                                                                                                                                                                                                                                                                                                                                                                                                                                                                                                                                                                                                                                                                                                                                                                                                                                                                                                  \n",
       "54   Those in power ie managers etc are all that matters Lower level good luck                                                                                                                                                                                                                                                                                                                                                                                                                                                                                                                                                                                                                                                                                                                                                                                                                                                                                                                                                                                                                                                                                                                                                                                                                                                                                                                                                                                                                                                                                                                                                                                                                                                                                                                                                                                                                                                                                                                                                                                                                                                                                                                                                                                                                                                                                                                                                                                                                                                                                                                                                                                                                                                                                                                                                                                                                                                                                                                                                                                                                                                                                                                                                                                                                                                                                                                                                                                                                                                                                                                                                                                                                                                                                                                                      "
      ]
     },
     "execution_count": 7,
     "metadata": {},
     "output_type": "execute_result"
    }
   ],
   "source": [
    "df[df['class']=='Notrelated'].head(10)"
   ]
  },
  {
   "cell_type": "code",
   "execution_count": null,
   "metadata": {},
   "outputs": [],
   "source": [
    "df.to_csv('all_data_masha.csv')"
   ]
  },
  {
   "cell_type": "code",
   "execution_count": 87,
   "metadata": {},
   "outputs": [],
   "source": [
    "train, test = train_test_split(df, test_size=0.3, random_state=42)\n",
    "train_tagged = train.apply(lambda r: TaggedDocument(words=tokenize_text(r['complain']), tags=[r['class']]), axis=1)\n",
    "test_tagged = test.apply(lambda r: TaggedDocument(words=tokenize_text(r['complain']), tags=[r['class']]), axis=1)\n"
   ]
  },
  {
   "cell_type": "code",
   "execution_count": 88,
   "metadata": {},
   "outputs": [
    {
     "data": {
      "text/plain": [
       "TaggedDocument(words=['management', 'can', 'not', 'stress', 'this', 'enough', 'they', 'hire', 'desperate', 'transplants', 'who', 'would', 'rather', 'try', 'and', 'be', 'friend', 'to', 'only', 'get', 'you', 'fired', 'very', 'weird', 'creepy', 'and', 'handsy', 'if', 'not', 'that', 'the', 'managers', 'were', 'always', 'absent', 'on', 'peak', 'days', 'or', 'would', 'over', 'staff', 'on', 'slow', 'days', 'there', 'was', 'no', 'team', 'building', 'managers', 'would', 'only', 'play', 'into', 'the', 'games', 'and', 'trash', 'talk', 'they', 'also', 'punished', 'people', 'for', 'write', 'ups', 'to', 'get', 'them', 'fired', 'when', 'they', 'knew', 'who', 'was', 'stealing', 'to', 'add', 'if', 'they', 'would', 'stay', 'to', 'close', 'these', 'things', 'wouldnt', 'happen', 'also', 'to', 'add', 'there', 'was', 'no', 'way', 'to', 'voice', 'concerns', 'people', 'would', 'fake', 'care', 'and', 'tell', 'whomever', 'is', 'the', 'issue', 'to', 'cause', 'further', 'problems', 'rather', 'than', 'resolve', 'in', 'short', 'if', 'you', 'are', 'vegan', 'or', 'care', 'need', 'not', 'apply', 'you', 'will', 'be', 'around', 'people', 'who', 'only', 'care', 'about', 'moving', 'ahead', 'of', 'you', 'and', 'making', 'more', 'money', 'than', 'you', 'as', 'far', 'as', 'the', 'work', 'would', 'agree', 'with', 'other', 'posts', 'over', 'worked', 'underpaid'], tags=['Notrelated'])"
      ]
     },
     "execution_count": 88,
     "metadata": {},
     "output_type": "execute_result"
    }
   ],
   "source": [
    "train_tagged.values[30]"
   ]
  },
  {
   "cell_type": "markdown",
   "metadata": {},
   "source": [
    "## Training the model"
   ]
  },
  {
   "cell_type": "code",
   "execution_count": 89,
   "metadata": {},
   "outputs": [],
   "source": [
    "model_dbow = Doc2Vec(dm=0, vector_size=300, negative=5, hs=0, min_count=2, sample = 0, workers=cores)\n",
    "model_dbow.build_vocab([x for x in train_tagged.values])"
   ]
  },
  {
   "cell_type": "code",
   "execution_count": 90,
   "metadata": {},
   "outputs": [],
   "source": [
    "model_dbow.train(train_tagged.values, total_examples=len(train_tagged.values),epochs=30)"
   ]
  },
  {
   "cell_type": "code",
   "execution_count": 91,
   "metadata": {},
   "outputs": [],
   "source": [
    " def vec_for_learning(model, tagged_docs):\n",
    "    sents = tagged_docs.values\n",
    "    targets, regressors = zip(*[(doc.tags[0], model.infer_vector(doc.words, steps=20)) for doc in sents])\n",
    "    return targets, regressors"
   ]
  },
  {
   "cell_type": "code",
   "execution_count": 92,
   "metadata": {},
   "outputs": [],
   "source": [
    "y_train, X_train = vec_for_learning(model_dbow, train_tagged)\n",
    "y_test, X_test = vec_for_learning(model_dbow, test_tagged)"
   ]
  },
  {
   "cell_type": "code",
   "execution_count": 93,
   "metadata": {},
   "outputs": [],
   "source": [
    "logreg = LogisticRegression(n_jobs=1, C=1e5)\n",
    "logreg.fit(X_train, y_train)\n",
    "y_pred = logreg.predict(X_test)"
   ]
  },
  {
   "cell_type": "code",
   "execution_count": 94,
   "metadata": {},
   "outputs": [
    {
     "name": "stdout",
     "output_type": "stream",
     "text": [
      "Testing accuracy 0.6298850574712643\n",
      "Testing F1 score: 0.6128767626559046\n"
     ]
    }
   ],
   "source": [
    "print('Testing accuracy %s' % accuracy_score(y_test, y_pred))\n",
    "print('Testing F1 score: {}'.format(f1_score(y_test, y_pred, average='weighted')))\n"
   ]
  },
  {
   "cell_type": "markdown",
   "metadata": {},
   "source": [
    "## Test from differen source\n",
    "\n",
    "https://www.theguardian.com/global-development/2017/jul/29/slept-floor-flat-near-harrods-stories-modern-slavery"
   ]
  },
  {
   "cell_type": "code",
   "execution_count": 95,
   "metadata": {},
   "outputs": [],
   "source": [
    "text1='When my husband became very sick and couldn’t work, I used an employment agency to find me work abroad. I was sent to Qatar, but the family were cheating me, paying me less than agreed in my contract and refusing to give me a day off. I called the agency in the Philippines for help, but they never answered. I had to send money back home to pay for food, school fees and medicine. I fought with my employer about my salary, but he would say Your contract is just a piece of paper'\n",
    "\n",
    "text2='I worked 12-hour shifts and finished every day at 6pm, the same time that the gang curfew in our city came into effect. There are two main gangs in the area, and anyone on the streets after the curfew becomes a target. Every day I thought might be my last. One evening, my co-worker and I were walking to the bus stop when three gang members stopped and said we’d have to sell sex and drugs for them. “We’re not asking you,” they said. “We’re giving you an order.” They let us go, but I was terrified. The next night after work, they were there, waiting for us. “Time’s up,” they said, and they forced us into a car at gunpoint'\n",
    "\n",
    "text3='One of my friends in the village said he and a few others were leaving to find work. The next day we all got a taxi and headed for Thailand. We were met by a man who said we could work on his cassava farm, earning $130 (£99) a month each, with room and board included. We worked seven days a week, morning until night, for a month, until one evening a Thai man asked how much we were earning. He offered us $200 a month to work on a construction site, but said we’d have to move to Thailand We were confused. Weren’t we already in Thailand? It turned out we were still in Cambodia, and the farmer had already fled without giving us any wages. We were left with no choice but to accept the deal and smuggle ourselves over the border. The man said we’d be charged for being driven to the construction site, but that it could be deducted from our first month’s wages. It was a long, uncomfortable drive in a pickup, and when we finally stopped, we saw that we weren’t at a construction site, but a busy sea port. The broker said the building site had closed, so he’d arranged for us to work on a fishing boat instead'\n"
   ]
  },
  {
   "cell_type": "code",
   "execution_count": 96,
   "metadata": {},
   "outputs": [],
   "source": [
    "def check_independent(text):\n",
    "    text=re.sub(\"[^a-zA-Z0-9 ]\",'',str(text))\n",
    "    words=tokenize_text(text)\n",
    "    regg=model_dbow.infer_vector(words, steps=20)\n",
    "    print(logreg.predict([regg]))"
   ]
  },
  {
   "cell_type": "code",
   "execution_count": 97,
   "metadata": {},
   "outputs": [
    {
     "name": "stdout",
     "output_type": "stream",
     "text": [
      "['Labor']\n"
     ]
    }
   ],
   "source": [
    "check_independent(text3)"
   ]
  },
  {
   "cell_type": "code",
   "execution_count": 98,
   "metadata": {},
   "outputs": [
    {
     "name": "stdout",
     "output_type": "stream",
     "text": [
      "['Labor']\n"
     ]
    }
   ],
   "source": [
    "check_independent(text1)"
   ]
  },
  {
   "cell_type": "code",
   "execution_count": 99,
   "metadata": {},
   "outputs": [
    {
     "name": "stdout",
     "output_type": "stream",
     "text": [
      "['Minor']\n"
     ]
    }
   ],
   "source": [
    "check_independent(text2)"
   ]
  },
  {
   "cell_type": "code",
   "execution_count": 102,
   "metadata": {},
   "outputs": [],
   "source": [
    "import pickle\n",
    "\n",
    "pickle.dump([model_dbow,logreg],open('word2vecworking1.pickle','wb'))"
   ]
  },
  {
   "cell_type": "code",
   "execution_count": null,
   "metadata": {},
   "outputs": [],
   "source": []
  }
 ],
 "metadata": {
  "hide_input": false,
  "kernelspec": {
   "display_name": "Python 3",
   "language": "python",
   "name": "python3"
  },
  "language_info": {
   "codemirror_mode": {
    "name": "ipython",
    "version": 3
   },
   "file_extension": ".py",
   "mimetype": "text/x-python",
   "name": "python",
   "nbconvert_exporter": "python",
   "pygments_lexer": "ipython3",
   "version": "3.6.8"
  },
  "toc": {
   "base_numbering": 1,
   "nav_menu": {},
   "number_sections": true,
   "sideBar": true,
   "skip_h1_title": false,
   "title_cell": "Table of Contents",
   "title_sidebar": "Contents",
   "toc_cell": false,
   "toc_position": {},
   "toc_section_display": true,
   "toc_window_display": false
  },
  "varInspector": {
   "cols": {
    "lenName": 16,
    "lenType": 16,
    "lenVar": 40
   },
   "kernels_config": {
    "python": {
     "delete_cmd_postfix": "",
     "delete_cmd_prefix": "del ",
     "library": "var_list.py",
     "varRefreshCmd": "print(var_dic_list())"
    },
    "r": {
     "delete_cmd_postfix": ") ",
     "delete_cmd_prefix": "rm(",
     "library": "var_list.r",
     "varRefreshCmd": "cat(var_dic_list()) "
    }
   },
   "types_to_exclude": [
    "module",
    "function",
    "builtin_function_or_method",
    "instance",
    "_Feature"
   ],
   "window_display": false
  }
 },
 "nbformat": 4,
 "nbformat_minor": 2
}
