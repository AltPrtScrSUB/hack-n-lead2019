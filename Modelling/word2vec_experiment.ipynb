{
 "cells": [
  {
   "cell_type": "markdown",
   "metadata": {},
   "source": [
    "## Unite all data"
   ]
  },
  {
   "cell_type": "code",
   "execution_count": 8,
   "metadata": {},
   "outputs": [
    {
     "data": {
      "text/plain": [
       "array(['Notrelated', 'Labor', 'Adult', 'Minor'], dtype=object)"
      ]
     },
     "execution_count": 8,
     "metadata": {},
     "output_type": "execute_result"
    }
   ],
   "source": [
    "import pandas as pd\n",
    "from gensim.models import Doc2Vec\n",
    "from sklearn import utils\n",
    "from sklearn.model_selection import train_test_split\n",
    "import gensim\n",
    "from sklearn.linear_model import LogisticRegression\n",
    "from gensim.models.doc2vec import TaggedDocument\n",
    "import re\n",
    "import seaborn as sns\n",
    "import matplotlib.pyplot as plt\n",
    "import numpy as np\n",
    "import nltk\n",
    "import multiprocessing\n",
    "from sklearn.metrics import accuracy_score, f1_score\n",
    "\n",
    "cores = multiprocessing.cpu_count()\n",
    "\n",
    "positives=pd.read_csv('Data/positive_combined_withreal.csv')\n",
    "cases=pd.read_csv('Data/case_files.csv')\n",
    "\n",
    "positives['class']=positives['class'].str.replace(' ','')\n",
    "cases_clean=pd.DataFrame(data={'class':cases['Case Type'],'complain':cases['Case Summary']})\n",
    "\n",
    "df=pd.concat([positives,cases_clean], axis= 0,ignore_index=True)\n",
    "df['class']=df['class'].apply(lambda x: x[0].upper()+x[1:])\n",
    "df['class'].unique()"
   ]
  },
  {
   "cell_type": "markdown",
   "metadata": {},
   "source": [
    "## Text preprocessing"
   ]
  },
  {
   "cell_type": "code",
   "execution_count": 5,
   "metadata": {},
   "outputs": [
    {
     "name": "stdout",
     "output_type": "stream",
     "text": [
      "[nltk_data] Downloading package punkt to /Users/maria/nltk_data...\n",
      "[nltk_data]   Package punkt is already up-to-date!\n"
     ]
    }
   ],
   "source": [
    "nltk.download('punkt')\n",
    "from nltk.corpus import stopwords\n",
    "def tokenize_text(text):\n",
    "    tokens = []\n",
    "    for sent in nltk.sent_tokenize(text):\n",
    "        for word in nltk.word_tokenize(sent):\n",
    "            if len(word) < 2:\n",
    "                continue\n",
    "            tokens.append(word.lower())\n",
    "    return tokens"
   ]
  },
  {
   "cell_type": "code",
   "execution_count": 9,
   "metadata": {},
   "outputs": [],
   "source": [
    "pd.set_option('display.max_colwidth', -1)\n",
    "df=df.applymap(lambda x: re.sub(\"[^a-zA-Z0-9 ]\",'',str(x)))\n",
    "df['complain']=df['complain'].apply(lambda x: re.sub('notrelated|nannan','',x))\n",
    "df=df.sample(frac=1) #randomize our groups"
   ]
  },
  {
   "cell_type": "code",
   "execution_count": 10,
   "metadata": {},
   "outputs": [
    {
     "data": {
      "text/html": [
       "<div>\n",
       "<style scoped>\n",
       "    .dataframe tbody tr th:only-of-type {\n",
       "        vertical-align: middle;\n",
       "    }\n",
       "\n",
       "    .dataframe tbody tr th {\n",
       "        vertical-align: top;\n",
       "    }\n",
       "\n",
       "    .dataframe thead th {\n",
       "        text-align: right;\n",
       "    }\n",
       "</style>\n",
       "<table border=\"1\" class=\"dataframe\">\n",
       "  <thead>\n",
       "    <tr style=\"text-align: right;\">\n",
       "      <th></th>\n",
       "      <th>class</th>\n",
       "      <th>complain</th>\n",
       "    </tr>\n",
       "  </thead>\n",
       "  <tbody>\n",
       "    <tr>\n",
       "      <th>102</th>\n",
       "      <td>Notrelated</td>\n",
       "      <td>Create a rotating on call schedule dont keep wages secret and push your hard workers for raises</td>\n",
       "    </tr>\n",
       "    <tr>\n",
       "      <th>15</th>\n",
       "      <td>Notrelated</td>\n",
       "      <td>minimal financial incentives for exceptional performance</td>\n",
       "    </tr>\n",
       "    <tr>\n",
       "      <th>89</th>\n",
       "      <td>Notrelated</td>\n",
       "      <td>Physically hard and long hours</td>\n",
       "    </tr>\n",
       "    <tr>\n",
       "      <th>152</th>\n",
       "      <td>Notrelated</td>\n",
       "      <td>Hectic work schedule strict office clockin timings late night and weekend working expected during commercialization comparatively low pay</td>\n",
       "    </tr>\n",
       "    <tr>\n",
       "      <th>93</th>\n",
       "      <td>Notrelated</td>\n",
       "      <td>We are being outpaced by our value and premium competitors in the category which has put a strain on our businesses and resulted in a complete restructure of how we find value  in our organization While this is an exciting challenge to overcome it is a challenge nonetheless and company culture and morale are low as a result of cost cutting layoffs and burn out being overworked Senior management is not as visible as they should be in rallying the troops to help boost positivitynan</td>\n",
       "    </tr>\n",
       "    <tr>\n",
       "      <th>258</th>\n",
       "      <td>Notrelated</td>\n",
       "      <td>1 Expect to fight tooth and nail for the pay andor the promotion that you deserve especially if you arent into playing dirty to get what you want 2 They arent the most well versed in the operational stuff like your benefits or pto time even though the company has been in business for nearly 10 years now 3 what HR 4 Upper managementHQ rewards nasty behavior</td>\n",
       "    </tr>\n",
       "    <tr>\n",
       "      <th>142</th>\n",
       "      <td>Notrelated</td>\n",
       "      <td>Management problems high turnover unwanted and unexpected overtime Favoritism and racial bias from Hispanic managers upon others Its a real challenge for some to relate with those from another culture than their own Everyone wants to be dealt with in a kind and respectful manner This takes a balance of empathy sternness and fairness to allnan</td>\n",
       "    </tr>\n",
       "    <tr>\n",
       "      <th>131</th>\n",
       "      <td>Notrelated</td>\n",
       "      <td>very disorganized Many services are just terrible The department environmental service is horrid The hospital is always dirty Dietary is also bad they always messed up the pts orders There is also a lack of communication between the interdisciplinary teams This sometimes causes pts care to be delayed and therefore stay longer then needed Medicals supplies are also always lacking</td>\n",
       "    </tr>\n",
       "    <tr>\n",
       "      <th>160</th>\n",
       "      <td>Notrelated</td>\n",
       "      <td>followers snitchessome lazy people some just to collect a pay check</td>\n",
       "    </tr>\n",
       "    <tr>\n",
       "      <th>45</th>\n",
       "      <td>Notrelated</td>\n",
       "      <td>Favoritism exists on all levels of management Incompetent management still on the job</td>\n",
       "    </tr>\n",
       "  </tbody>\n",
       "</table>\n",
       "</div>"
      ],
      "text/plain": [
       "          class  \\\n",
       "102  Notrelated   \n",
       "15   Notrelated   \n",
       "89   Notrelated   \n",
       "152  Notrelated   \n",
       "93   Notrelated   \n",
       "258  Notrelated   \n",
       "142  Notrelated   \n",
       "131  Notrelated   \n",
       "160  Notrelated   \n",
       "45   Notrelated   \n",
       "\n",
       "                                                                                                                                                                                                                                                                                                                                                                                                                                                                                                 complain  \n",
       "102  Create a rotating on call schedule dont keep wages secret and push your hard workers for raises                                                                                                                                                                                                                                                                                                                                                                                                       \n",
       "15   minimal financial incentives for exceptional performance                                                                                                                                                                                                                                                                                                                                                                                                                                              \n",
       "89   Physically hard and long hours                                                                                                                                                                                                                                                                                                                                                                                                                                                                        \n",
       "152  Hectic work schedule strict office clockin timings late night and weekend working expected during commercialization comparatively low pay                                                                                                                                                                                                                                                                                                                                                             \n",
       "93   We are being outpaced by our value and premium competitors in the category which has put a strain on our businesses and resulted in a complete restructure of how we find value  in our organization While this is an exciting challenge to overcome it is a challenge nonetheless and company culture and morale are low as a result of cost cutting layoffs and burn out being overworked Senior management is not as visible as they should be in rallying the troops to help boost positivitynan  \n",
       "258  1 Expect to fight tooth and nail for the pay andor the promotion that you deserve especially if you arent into playing dirty to get what you want 2 They arent the most well versed in the operational stuff like your benefits or pto time even though the company has been in business for nearly 10 years now 3 what HR 4 Upper managementHQ rewards nasty behavior                                                                                                                                \n",
       "142  Management problems high turnover unwanted and unexpected overtime Favoritism and racial bias from Hispanic managers upon others Its a real challenge for some to relate with those from another culture than their own Everyone wants to be dealt with in a kind and respectful manner This takes a balance of empathy sternness and fairness to allnan                                                                                                                                              \n",
       "131  very disorganized Many services are just terrible The department environmental service is horrid The hospital is always dirty Dietary is also bad they always messed up the pts orders There is also a lack of communication between the interdisciplinary teams This sometimes causes pts care to be delayed and therefore stay longer then needed Medicals supplies are also always lacking                                                                                                         \n",
       "160  followers snitchessome lazy people some just to collect a pay check                                                                                                                                                                                                                                                                                                                                                                                                                                   \n",
       "45   Favoritism exists on all levels of management Incompetent management still on the job                                                                                                                                                                                                                                                                                                                                                                                                                 "
      ]
     },
     "execution_count": 10,
     "metadata": {},
     "output_type": "execute_result"
    }
   ],
   "source": [
    "df[df['class']=='Notrelated'].head(10)"
   ]
  },
  {
   "cell_type": "code",
   "execution_count": 11,
   "metadata": {},
   "outputs": [],
   "source": [
    "df.to_csv('all_data_masha.csv')"
   ]
  },
  {
   "cell_type": "code",
   "execution_count": 12,
   "metadata": {},
   "outputs": [],
   "source": [
    "train, test = train_test_split(df, test_size=0.3, random_state=42)\n",
    "train_tagged = train.apply(lambda r: TaggedDocument(words=tokenize_text(r['complain']), tags=[r['class']]), axis=1)\n",
    "test_tagged = test.apply(lambda r: TaggedDocument(words=tokenize_text(r['complain']), tags=[r['class']]), axis=1)\n"
   ]
  },
  {
   "cell_type": "code",
   "execution_count": 13,
   "metadata": {},
   "outputs": [
    {
     "data": {
      "text/plain": [
       "TaggedDocument(words=['the', 'defendant', 'kidnapped', 'the', 'fourteen', 'year', 'old', 'victim', 'from', 'nc', 'he', 'then', 'threatened', 'her', 'and', 'frequently', 'beat', 'her', 'into', 'submission', 'until', 'she', 'agreed', 'to', 'engage', 'herself', 'in', 'commercial', 'sexual', 'acts', 'the', 'defendant', 'forced', 'the', 'victim', 'to', 'live', 'in', 'his', 'apartment', 'in', 'windowless', 'room', 'with', 'two', 'other', 'women', 'however', 'the', 'defendant', 'was', 'not', 'charged', 'for', 'harboring', 'the', 'two', 'adults', 'who', 'were', 'also', 'engaged', 'in', 'commercial', 'sexual', 'activities'], tags=['Adult'])"
      ]
     },
     "execution_count": 13,
     "metadata": {},
     "output_type": "execute_result"
    }
   ],
   "source": [
    "train_tagged.values[30]"
   ]
  },
  {
   "cell_type": "markdown",
   "metadata": {},
   "source": [
    "## Training the model"
   ]
  },
  {
   "cell_type": "code",
   "execution_count": 14,
   "metadata": {},
   "outputs": [],
   "source": [
    "model_dbow = Doc2Vec(dm=0, vector_size=300, negative=5, hs=0, min_count=2, sample = 0, workers=cores)\n",
    "model_dbow.build_vocab([x for x in train_tagged.values])"
   ]
  },
  {
   "cell_type": "code",
   "execution_count": 15,
   "metadata": {},
   "outputs": [],
   "source": [
    "model_dbow.train(train_tagged.values, total_examples=len(train_tagged.values),epochs=30)"
   ]
  },
  {
   "cell_type": "code",
   "execution_count": 16,
   "metadata": {},
   "outputs": [],
   "source": [
    " def vec_for_learning(model, tagged_docs):\n",
    "    sents = tagged_docs.values\n",
    "    targets, regressors = zip(*[(doc.tags[0], model.infer_vector(doc.words, steps=20)) for doc in sents])\n",
    "    return targets, regressors"
   ]
  },
  {
   "cell_type": "code",
   "execution_count": 17,
   "metadata": {},
   "outputs": [],
   "source": [
    "y_train, X_train = vec_for_learning(model_dbow, train_tagged)\n",
    "y_test, X_test = vec_for_learning(model_dbow, test_tagged)"
   ]
  },
  {
   "cell_type": "code",
   "execution_count": 18,
   "metadata": {},
   "outputs": [],
   "source": [
    "logreg = LogisticRegression(n_jobs=1, C=1e5)\n",
    "logreg.fit(X_train, y_train)\n",
    "y_pred = logreg.predict(X_test)"
   ]
  },
  {
   "cell_type": "code",
   "execution_count": 19,
   "metadata": {},
   "outputs": [
    {
     "name": "stdout",
     "output_type": "stream",
     "text": [
      "Testing accuracy 0.6666666666666666\n",
      "Testing F1 score: 0.6594428886636987\n"
     ]
    }
   ],
   "source": [
    "print('Testing accuracy %s' % accuracy_score(y_test, y_pred))\n",
    "print('Testing F1 score: {}'.format(f1_score(y_test, y_pred, average='weighted')))\n"
   ]
  },
  {
   "cell_type": "markdown",
   "metadata": {},
   "source": [
    "## Test from differen source\n",
    "\n",
    "https://www.theguardian.com/global-development/2017/jul/29/slept-floor-flat-near-harrods-stories-modern-slavery"
   ]
  },
  {
   "cell_type": "code",
   "execution_count": 20,
   "metadata": {},
   "outputs": [],
   "source": [
    "text1='When my husband became very sick and couldn’t work, I used an employment agency to find me work abroad. I was sent to Qatar, but the family were cheating me, paying me less than agreed in my contract and refusing to give me a day off. I called the agency in the Philippines for help, but they never answered. I had to send money back home to pay for food, school fees and medicine. I fought with my employer about my salary, but he would say Your contract is just a piece of paper'\n",
    "\n",
    "text2='I worked 12-hour shifts and finished every day at 6pm, the same time that the gang curfew in our city came into effect. There are two main gangs in the area, and anyone on the streets after the curfew becomes a target. Every day I thought might be my last. One evening, my co-worker and I were walking to the bus stop when three gang members stopped and said we’d have to sell sex and drugs for them. “We’re not asking you,” they said. “We’re giving you an order.” They let us go, but I was terrified. The next night after work, they were there, waiting for us. “Time’s up,” they said, and they forced us into a car at gunpoint'\n",
    "\n",
    "text3='One of my friends in the village said he and a few others were leaving to find work.\\\n",
    "    The next day we all got a taxi and headed for Thailand. We were met by a man who said we could\\\n",
    "    work on his cassava farm, earning $130 (£99) a month each, \\\n",
    "    with room and board included. We worked seven days a week, \\\n",
    "    morning until night, for a month, until one evening a Thai man asked how much we were earning. He offered us $200 a month to work on a construction site, but said we’d have to move to Thailand We were confused. Weren’t we already in Thailand? It turned out we were still in Cambodia, and the farmer had already fled without giving us any wages. We were left with no choice but to accept the deal and smuggle ourselves over the border. The man said we’d be charged for being driven to the construction site, but that it could be deducted from our first month’s wages. It was a long, uncomfortable drive in a pickup, and when we finally stopped, we saw that we weren’t at a construction site, but a busy sea port. The broker said the building site had closed, so he’d arranged for us to work on a fishing boat instead'\n"
   ]
  },
  {
   "cell_type": "code",
   "execution_count": 106,
   "metadata": {},
   "outputs": [],
   "source": [
    "import seaborn as sns\n",
    "import matplotlib as mpl\n",
    "sns.set(style='whitegrid')\n",
    "sns.set(font_scale = 1.8,)\n",
    "labels=sorted(df['class'].unique())\n",
    "COLOR = 'white'\n",
    "mpl.rcParams['text.color'] = COLOR\n",
    "mpl.rcParams['axes.labelcolor'] = COLOR\n",
    "mpl.rcParams['xtick.color'] = COLOR\n",
    "mpl.rcParams['ytick.color'] = COLOR\n",
    "\n",
    "\n",
    "def check_independent(text,anme):\n",
    "    text=re.sub(\"[^a-zA-Z0-9 ]\",'',str(text))\n",
    "    words=tokenize_text(text)\n",
    "    regg=model_dbow_all.infer_vector(words, steps=20)\n",
    "    print(logreg_all.predict([regg]))\n",
    "    print(logreg_all.predict_proba([regg]))\n",
    "    df_toplot=pd.DataFrame(data={'labels':labels,'values':logreg_all.predict_proba([regg])[0]})\n",
    "    print(df_toplot.head())\n",
    "    ax=sns.barplot(x='labels',y='values',data=df_toplot,palette='cool')\n",
    "    ax.set_ylabel('Probabilities',fontsize=23,x=0)\n",
    "    ax.set_xlabel('')\n",
    "    ax.set_ylim([0,1])\n",
    "    plt.tight_layout()\n",
    "    plt.savefig('%s.png'%anme,dpi=300, transparent=True)\n",
    "    "
   ]
  },
  {
   "cell_type": "code",
   "execution_count": 107,
   "metadata": {},
   "outputs": [
    {
     "name": "stdout",
     "output_type": "stream",
     "text": [
      "['Labor']\n",
      "[[1.25607648e-02 9.87433802e-01 5.43314369e-06 1.31355066e-15]]\n",
      "       labels        values\n",
      "0  Adult       1.256076e-02\n",
      "1  Labor       9.874338e-01\n",
      "2  Minor       5.433144e-06\n",
      "3  Notrelated  1.313551e-15\n"
     ]
    },
    {
     "data": {
      "image/png": "[encoded data removed]",
      "text/plain": [
       "<Figure size 432x288 with 1 Axes>"
      ]
     },
     "metadata": {},
     "output_type": "display_data"
    }
   ],
   "source": [
    "check_independent(text3,'text3')"
   ]
  },
  {
   "cell_type": "code",
   "execution_count": 94,
   "metadata": {},
   "outputs": [
    {
     "name": "stdout",
     "output_type": "stream",
     "text": [
      "['Labor']\n",
      "[[1.61484715e-01 8.30754466e-01 1.13090526e-07 7.76070578e-03]]\n",
      "       labels        values\n",
      "0  Adult       1.614847e-01\n",
      "1  Labor       8.307545e-01\n",
      "2  Minor       1.130905e-07\n",
      "3  Notrelated  7.760706e-03\n"
     ]
    },
    {
     "data": {
      "image/png": "[encoded data removed]",
      "text/plain": [
       "<Figure size 432x288 with 1 Axes>"
      ]
     },
     "metadata": {},
     "output_type": "display_data"
    }
   ],
   "source": [
    "check_independent(text1,'text1')"
   ]
  },
  {
   "cell_type": "code",
   "execution_count": 95,
   "metadata": {},
   "outputs": [
    {
     "name": "stdout",
     "output_type": "stream",
     "text": [
      "['Notrelated']\n",
      "[[0.00471975 0.00749851 0.00784279 0.97993895]]\n",
      "       labels    values\n",
      "0  Adult       0.004720\n",
      "1  Labor       0.007499\n",
      "2  Minor       0.007843\n",
      "3  Notrelated  0.979939\n"
     ]
    },
    {
     "data": {
      "image/png": "[encoded data removed]",
      "text/plain": [
       "<Figure size 432x288 with 1 Axes>"
      ]
     },
     "metadata": {},
     "output_type": "display_data"
    }
   ],
   "source": [
    "check_independent(text2,'text2')"
   ]
  },
  {
   "cell_type": "code",
   "execution_count": 111,
   "metadata": {},
   "outputs": [
    {
     "name": "stdout",
     "output_type": "stream",
     "text": [
      "['Notrelated']\n",
      "[[3.85732976e-04 1.03263968e-03 8.52107384e-04 9.97729520e-01]]\n",
      "       labels    values\n",
      "0  Adult       0.000386\n",
      "1  Labor       0.001033\n",
      "2  Minor       0.000852\n",
      "3  Notrelated  0.997730\n"
     ]
    },
    {
     "data": {
      "image/png": "[encoded data removed]",
      "text/plain": [
       "<Figure size 432x288 with 1 Axes>"
      ]
     },
     "metadata": {},
     "output_type": "display_data"
    }
   ],
   "source": [
    "text0 = 'I am a slave for you'\n",
    "\n",
    "check_independent(text2,'text0')"
   ]
  },
  {
   "cell_type": "code",
   "execution_count": null,
   "metadata": {},
   "outputs": [],
   "source": [
    "import pickle\n",
    "\n",
    "pickle.dump([model_dbow,logreg],open('word2vecworking2.pickle','wb'))"
   ]
  },
  {
   "cell_type": "code",
   "execution_count": 39,
   "metadata": {},
   "outputs": [
    {
     "data": {
      "text/plain": [
       "LogisticRegression(C=100000.0, class_weight=None, dual=False,\n",
       "          fit_intercept=True, intercept_scaling=1, max_iter=100,\n",
       "          multi_class='ovr', n_jobs=1, penalty='l2', random_state=None,\n",
       "          solver='liblinear', tol=0.0001, verbose=0, warm_start=False)"
      ]
     },
     "execution_count": 39,
     "metadata": {},
     "output_type": "execute_result"
    }
   ],
   "source": [
    "all_tagged = df.apply(lambda r: TaggedDocument(words=tokenize_text(r['complain']), tags=[r['class']]), axis=1)\n",
    "model_dbow_all = Doc2Vec(dm=0, vector_size=300, negative=5, hs=0, min_count=2, sample = 0, workers=cores)\n",
    "model_dbow_all.build_vocab([x for x in all_tagged.values])\n",
    "model_dbow_all.train(train_tagged.values, total_examples=len(train_tagged.values),epochs=30)\n",
    "y_all, X_all = vec_for_learning(model_dbow_all, train_tagged)\n",
    "logreg_all = LogisticRegression(n_jobs=1, C=1e5)\n",
    "logreg_all.fit(X_all, y_all)"
   ]
  },
  {
   "cell_type": "code",
   "execution_count": 52,
   "metadata": {},
   "outputs": [
    {
     "data": {
      "text/plain": [
       "['Adult', 'Labor', 'Minor', 'Notrelated']"
      ]
     },
     "execution_count": 52,
     "metadata": {},
     "output_type": "execute_result"
    }
   ],
   "source": [
    "labels=df['class'].unique()\n",
    "sorted(labels)"
   ]
  },
  {
   "cell_type": "code",
   "execution_count": null,
   "metadata": {},
   "outputs": [],
   "source": []
  }
 ],
 "metadata": {
  "hide_input": false,
  "kernelspec": {
   "display_name": "Python 3",
   "language": "python",
   "name": "python3"
  },
  "language_info": {
   "codemirror_mode": {
    "name": "ipython",
    "version": 3
   },
   "file_extension": ".py",
   "mimetype": "text/x-python",
   "name": "python",
   "nbconvert_exporter": "python",
   "pygments_lexer": "ipython3",
   "version": "3.6.8"
  },
  "toc": {
   "base_numbering": 1,
   "nav_menu": {},
   "number_sections": true,
   "sideBar": true,
   "skip_h1_title": false,
   "title_cell": "Table of Contents",
   "title_sidebar": "Contents",
   "toc_cell": false,
   "toc_position": {},
   "toc_section_display": true,
   "toc_window_display": false
  },
  "varInspector": {
   "cols": {
    "lenName": 16,
    "lenType": 16,
    "lenVar": 40
   },
   "kernels_config": {
    "python": {
     "delete_cmd_postfix": "",
     "delete_cmd_prefix": "del ",
     "library": "var_list.py",
     "varRefreshCmd": "print(var_dic_list())"
    },
    "r": {
     "delete_cmd_postfix": ") ",
     "delete_cmd_prefix": "rm(",
     "library": "var_list.r",
     "varRefreshCmd": "cat(var_dic_list()) "
    }
   },
   "types_to_exclude": [
    "module",
    "function",
    "builtin_function_or_method",
    "instance",
    "_Feature"
   ],
   "window_display": false
  }
 },
 "nbformat": 4,
 "nbformat_minor": 2
}
