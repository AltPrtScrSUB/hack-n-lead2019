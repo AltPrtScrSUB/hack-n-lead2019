{
 "cells": [
  {
   "cell_type": "markdown",
   "metadata": {},
   "source": [
    "## Unite all data"
   ]
  },
  {
   "cell_type": "code",
   "execution_count": 83,
   "metadata": {},
   "outputs": [
    {
     "data": {
      "text/plain": [
       "array(['Notrelated', 'Labor', 'Adult', 'Minor'], dtype=object)"
      ]
     },
     "execution_count": 83,
     "metadata": {},
     "output_type": "execute_result"
    }
   ],
   "source": [
    "import pandas as pd\n",
    "from gensim.models import Doc2Vec\n",
    "from sklearn import utils\n",
    "from sklearn.model_selection import train_test_split\n",
    "import gensim\n",
    "from sklearn.linear_model import LogisticRegression\n",
    "from gensim.models.doc2vec import TaggedDocument\n",
    "import re\n",
    "import seaborn as sns\n",
    "import matplotlib.pyplot as plt\n",
    "import numpy as np\n",
    "import nltk\n",
    "import multiprocessing\n",
    "from sklearn.metrics import accuracy_score, f1_score\n",
    "\n",
    "cores = multiprocessing.cpu_count()\n",
    "\n",
    "positives=pd.read_csv('Data/positive_combined_withreal.csv')\n",
    "cases=pd.read_csv('Data/case_files.csv')\n",
    "\n",
    "positives['class']=positives['class'].str.replace(' ','')\n",
    "cases_clean=pd.DataFrame(data={'class':cases['Case Type'],'complain':cases['Case Summary']})\n",
    "\n",
    "df=pd.concat([positives,cases_clean], axis= 0)\n",
    "df['class']=df['class'].apply(lambda x: x[0].upper()+x[1:])\n",
    "df['class'].unique()"
   ]
  },
  {
   "cell_type": "markdown",
   "metadata": {},
   "source": [
    "## Text preprocessing"
   ]
  },
  {
   "cell_type": "code",
   "execution_count": 84,
   "metadata": {},
   "outputs": [
    {
     "name": "stdout",
     "output_type": "stream",
     "text": [
      "[nltk_data] Downloading package punkt to /Users/maria/nltk_data...\n",
      "[nltk_data]   Package punkt is already up-to-date!\n"
     ]
    }
   ],
   "source": [
    "nltk.download('punkt')\n",
    "from nltk.corpus import stopwords\n",
    "def tokenize_text(text):\n",
    "    tokens = []\n",
    "    for sent in nltk.sent_tokenize(text):\n",
    "        for word in nltk.word_tokenize(sent):\n",
    "            if len(word) < 2:\n",
    "                continue\n",
    "            tokens.append(word.lower())\n",
    "    return tokens"
   ]
  },
  {
   "cell_type": "code",
   "execution_count": 85,
   "metadata": {},
   "outputs": [],
   "source": [
    "pd.set_option('display.max_colwidth', -1)\n",
    "df=df.applymap(lambda x: re.sub(\"[^a-zA-Z0-9 ]\",'',str(x)))\n",
    "df['complain']=df['complain'].apply(lambda x: re.sub('notrelated|nannan','',x))\n",
    "df=df.sample(frac=1) #randomize our groups"
   ]
  },
  {
   "cell_type": "code",
   "execution_count": 86,
   "metadata": {},
   "outputs": [
    {
     "data": {
      "text/html": [
       "<div>\n",
       "<style scoped>\n",
       "    .dataframe tbody tr th:only-of-type {\n",
       "        vertical-align: middle;\n",
       "    }\n",
       "\n",
       "    .dataframe tbody tr th {\n",
       "        vertical-align: top;\n",
       "    }\n",
       "\n",
       "    .dataframe thead th {\n",
       "        text-align: right;\n",
       "    }\n",
       "</style>\n",
       "<table border=\"1\" class=\"dataframe\">\n",
       "  <thead>\n",
       "    <tr style=\"text-align: right;\">\n",
       "      <th></th>\n",
       "      <th>class</th>\n",
       "      <th>complain</th>\n",
       "    </tr>\n",
       "  </thead>\n",
       "  <tbody>\n",
       "    <tr>\n",
       "      <th>143</th>\n",
       "      <td>Notrelated</td>\n",
       "      <td>Frequent errors with overtime pay Operations managers are constantly changing and sometimes send unqualified officers to client sites Theres not much room for career growth I felt like my hard work and contributions were ignored by the company and that my managers attention was focused on other accounts</td>\n",
       "    </tr>\n",
       "    <tr>\n",
       "      <th>189</th>\n",
       "      <td>Notrelated</td>\n",
       "      <td>Certain managers in the midlands are very sly and big gossips they all talk about employees behind their back You cant confide in your manager without the rest of your team knowing everything Some managers need to actually pick up the phone and call new clients instead of resting on a few clients who theyve poached from previous roles</td>\n",
       "    </tr>\n",
       "    <tr>\n",
       "      <th>164</th>\n",
       "      <td>Notrelated</td>\n",
       "      <td>Upward mobility was somewhat limited</td>\n",
       "    </tr>\n",
       "    <tr>\n",
       "      <th>85</th>\n",
       "      <td>Notrelated</td>\n",
       "      <td>Everybody have to work on the weekends</td>\n",
       "    </tr>\n",
       "    <tr>\n",
       "      <th>281</th>\n",
       "      <td>Notrelated</td>\n",
       "      <td>You get paid minimum wage get lied to about raises and promotions on a constant basis for no apparent reason theres an ever increasing gap in communication between retail and corporate the CEO feels the need to walk into your store unannounced to yell at you about random things he wants to change theres no flexibility in scheduling whatsoever they understaff stores and force people to work two per shift no matter how heavy traffic can be</td>\n",
       "    </tr>\n",
       "    <tr>\n",
       "      <th>191</th>\n",
       "      <td>Notrelated</td>\n",
       "      <td>Like any company there are lots of transitions and growing pains Sometimes there are internal conflicts so you have to think different and be flexible to see what you can do to achieve your goals Take the initiative create actionable plans be resourceful and stay positive to keep yourself on track</td>\n",
       "    </tr>\n",
       "    <tr>\n",
       "      <th>61</th>\n",
       "      <td>Notrelated</td>\n",
       "      <td>I really dont have any cons</td>\n",
       "    </tr>\n",
       "    <tr>\n",
       "      <th>260</th>\n",
       "      <td>Notrelated</td>\n",
       "      <td>Management in the past has been very resistant to change and very inefficient This I assure you has been changed Recruiter positions currently do not offer lots of room for growth As a member of management I assure you that this will also change We are aware of this</td>\n",
       "    </tr>\n",
       "    <tr>\n",
       "      <th>157</th>\n",
       "      <td>Notrelated</td>\n",
       "      <td>Micro management and zero respect for work life balance</td>\n",
       "    </tr>\n",
       "    <tr>\n",
       "      <th>84</th>\n",
       "      <td>Notrelated</td>\n",
       "      <td>Early days Late nights Difficult helpers Misplaced packages</td>\n",
       "    </tr>\n",
       "  </tbody>\n",
       "</table>\n",
       "</div>"
      ],
      "text/plain": [
       "          class  \\\n",
       "143  Notrelated   \n",
       "189  Notrelated   \n",
       "164  Notrelated   \n",
       "85   Notrelated   \n",
       "281  Notrelated   \n",
       "191  Notrelated   \n",
       "61   Notrelated   \n",
       "260  Notrelated   \n",
       "157  Notrelated   \n",
       "84   Notrelated   \n",
       "\n",
       "                                                                                                                                                                                                                                                                                                                                                                                                                                                      complain  \n",
       "143  Frequent errors with overtime pay Operations managers are constantly changing and sometimes send unqualified officers to client sites Theres not much room for career growth I felt like my hard work and contributions were ignored by the company and that my managers attention was focused on other accounts                                                                                                                                           \n",
       "189  Certain managers in the midlands are very sly and big gossips they all talk about employees behind their back You cant confide in your manager without the rest of your team knowing everything Some managers need to actually pick up the phone and call new clients instead of resting on a few clients who theyve poached from previous roles                                                                                                           \n",
       "164  Upward mobility was somewhat limited                                                                                                                                                                                                                                                                                                                                                                                                                       \n",
       "85   Everybody have to work on the weekends                                                                                                                                                                                                                                                                                                                                                                                                                     \n",
       "281  You get paid minimum wage get lied to about raises and promotions on a constant basis for no apparent reason theres an ever increasing gap in communication between retail and corporate the CEO feels the need to walk into your store unannounced to yell at you about random things he wants to change theres no flexibility in scheduling whatsoever they understaff stores and force people to work two per shift no matter how heavy traffic can be  \n",
       "191  Like any company there are lots of transitions and growing pains Sometimes there are internal conflicts so you have to think different and be flexible to see what you can do to achieve your goals Take the initiative create actionable plans be resourceful and stay positive to keep yourself on track                                                                                                                                                 \n",
       "61   I really dont have any cons                                                                                                                                                                                                                                                                                                                                                                                                                                \n",
       "260  Management in the past has been very resistant to change and very inefficient This I assure you has been changed Recruiter positions currently do not offer lots of room for growth As a member of management I assure you that this will also change We are aware of this                                                                                                                                                                                 \n",
       "157  Micro management and zero respect for work life balance                                                                                                                                                                                                                                                                                                                                                                                                    \n",
       "84   Early days Late nights Difficult helpers Misplaced packages                                                                                                                                                                                                                                                                                                                                                                                                "
      ]
     },
     "execution_count": 86,
     "metadata": {},
     "output_type": "execute_result"
    }
   ],
   "source": [
    "df[df['class']=='Notrelated'].head(10)"
   ]
  },
  {
   "cell_type": "code",
   "execution_count": 87,
   "metadata": {},
   "outputs": [],
   "source": [
    "train, test = train_test_split(df, test_size=0.3, random_state=42)\n",
    "train_tagged = train.apply(lambda r: TaggedDocument(words=tokenize_text(r['complain']), tags=[r['class']]), axis=1)\n",
    "test_tagged = test.apply(lambda r: TaggedDocument(words=tokenize_text(r['complain']), tags=[r['class']]), axis=1)\n"
   ]
  },
  {
   "cell_type": "code",
   "execution_count": 88,
   "metadata": {},
   "outputs": [
    {
     "data": {
      "text/plain": [
       "TaggedDocument(words=['management', 'can', 'not', 'stress', 'this', 'enough', 'they', 'hire', 'desperate', 'transplants', 'who', 'would', 'rather', 'try', 'and', 'be', 'friend', 'to', 'only', 'get', 'you', 'fired', 'very', 'weird', 'creepy', 'and', 'handsy', 'if', 'not', 'that', 'the', 'managers', 'were', 'always', 'absent', 'on', 'peak', 'days', 'or', 'would', 'over', 'staff', 'on', 'slow', 'days', 'there', 'was', 'no', 'team', 'building', 'managers', 'would', 'only', 'play', 'into', 'the', 'games', 'and', 'trash', 'talk', 'they', 'also', 'punished', 'people', 'for', 'write', 'ups', 'to', 'get', 'them', 'fired', 'when', 'they', 'knew', 'who', 'was', 'stealing', 'to', 'add', 'if', 'they', 'would', 'stay', 'to', 'close', 'these', 'things', 'wouldnt', 'happen', 'also', 'to', 'add', 'there', 'was', 'no', 'way', 'to', 'voice', 'concerns', 'people', 'would', 'fake', 'care', 'and', 'tell', 'whomever', 'is', 'the', 'issue', 'to', 'cause', 'further', 'problems', 'rather', 'than', 'resolve', 'in', 'short', 'if', 'you', 'are', 'vegan', 'or', 'care', 'need', 'not', 'apply', 'you', 'will', 'be', 'around', 'people', 'who', 'only', 'care', 'about', 'moving', 'ahead', 'of', 'you', 'and', 'making', 'more', 'money', 'than', 'you', 'as', 'far', 'as', 'the', 'work', 'would', 'agree', 'with', 'other', 'posts', 'over', 'worked', 'underpaid'], tags=['Notrelated'])"
      ]
     },
     "execution_count": 88,
     "metadata": {},
     "output_type": "execute_result"
    }
   ],
   "source": [
    "train_tagged.values[30]"
   ]
  },
  {
   "cell_type": "markdown",
   "metadata": {},
   "source": [
    "## Training the model"
   ]
  },
  {
   "cell_type": "code",
   "execution_count": 89,
   "metadata": {},
   "outputs": [],
   "source": [
    "model_dbow = Doc2Vec(dm=0, vector_size=300, negative=5, hs=0, min_count=2, sample = 0, workers=cores)\n",
    "model_dbow.build_vocab([x for x in train_tagged.values])"
   ]
  },
  {
   "cell_type": "code",
   "execution_count": 90,
   "metadata": {},
   "outputs": [],
   "source": [
    "model_dbow.train(train_tagged.values, total_examples=len(train_tagged.values),epochs=30)"
   ]
  },
  {
   "cell_type": "code",
   "execution_count": 91,
   "metadata": {},
   "outputs": [],
   "source": [
    " def vec_for_learning(model, tagged_docs):\n",
    "    sents = tagged_docs.values\n",
    "    targets, regressors = zip(*[(doc.tags[0], model.infer_vector(doc.words, steps=20)) for doc in sents])\n",
    "    return targets, regressors"
   ]
  },
  {
   "cell_type": "code",
   "execution_count": 92,
   "metadata": {},
   "outputs": [],
   "source": [
    "y_train, X_train = vec_for_learning(model_dbow, train_tagged)\n",
    "y_test, X_test = vec_for_learning(model_dbow, test_tagged)"
   ]
  },
  {
   "cell_type": "code",
   "execution_count": 93,
   "metadata": {},
   "outputs": [],
   "source": [
    "logreg = LogisticRegression(n_jobs=1, C=1e5)\n",
    "logreg.fit(X_train, y_train)\n",
    "y_pred = logreg.predict(X_test)"
   ]
  },
  {
   "cell_type": "code",
   "execution_count": 94,
   "metadata": {},
   "outputs": [
    {
     "name": "stdout",
     "output_type": "stream",
     "text": [
      "Testing accuracy 0.6298850574712643\n",
      "Testing F1 score: 0.6128767626559046\n"
     ]
    }
   ],
   "source": [
    "print('Testing accuracy %s' % accuracy_score(y_test, y_pred))\n",
    "print('Testing F1 score: {}'.format(f1_score(y_test, y_pred, average='weighted')))\n"
   ]
  },
  {
   "cell_type": "markdown",
   "metadata": {},
   "source": [
    "## Test from differen source\n",
    "\n",
    "https://www.theguardian.com/global-development/2017/jul/29/slept-floor-flat-near-harrods-stories-modern-slavery"
   ]
  },
  {
   "cell_type": "code",
   "execution_count": 95,
   "metadata": {},
   "outputs": [],
   "source": [
    "text1='When my husband became very sick and couldn’t work, I used an employment agency to find me work abroad. I was sent to Qatar, but the family were cheating me, paying me less than agreed in my contract and refusing to give me a day off. I called the agency in the Philippines for help, but they never answered. I had to send money back home to pay for food, school fees and medicine. I fought with my employer about my salary, but he would say Your contract is just a piece of paper'\n",
    "\n",
    "text2='I worked 12-hour shifts and finished every day at 6pm, the same time that the gang curfew in our city came into effect. There are two main gangs in the area, and anyone on the streets after the curfew becomes a target. Every day I thought might be my last. One evening, my co-worker and I were walking to the bus stop when three gang members stopped and said we’d have to sell sex and drugs for them. “We’re not asking you,” they said. “We’re giving you an order.” They let us go, but I was terrified. The next night after work, they were there, waiting for us. “Time’s up,” they said, and they forced us into a car at gunpoint'\n",
    "\n",
    "text3='One of my friends in the village said he and a few others were leaving to find work. The next day we all got a taxi and headed for Thailand. We were met by a man who said we could work on his cassava farm, earning $130 (£99) a month each, with room and board included. We worked seven days a week, morning until night, for a month, until one evening a Thai man asked how much we were earning. He offered us $200 a month to work on a construction site, but said we’d have to move to Thailand We were confused. Weren’t we already in Thailand? It turned out we were still in Cambodia, and the farmer had already fled without giving us any wages. We were left with no choice but to accept the deal and smuggle ourselves over the border. The man said we’d be charged for being driven to the construction site, but that it could be deducted from our first month’s wages. It was a long, uncomfortable drive in a pickup, and when we finally stopped, we saw that we weren’t at a construction site, but a busy sea port. The broker said the building site had closed, so he’d arranged for us to work on a fishing boat instead'\n"
   ]
  },
  {
   "cell_type": "code",
   "execution_count": 96,
   "metadata": {},
   "outputs": [],
   "source": [
    "def check_independent(text):\n",
    "    text=re.sub(\"[^a-zA-Z0-9 ]\",'',str(text))\n",
    "    words=tokenize_text(text)\n",
    "    regg=model_dbow.infer_vector(words, steps=20)\n",
    "    print(logreg.predict([regg]))"
   ]
  },
  {
   "cell_type": "code",
   "execution_count": 97,
   "metadata": {},
   "outputs": [
    {
     "name": "stdout",
     "output_type": "stream",
     "text": [
      "['Labor']\n"
     ]
    }
   ],
   "source": [
    "check_independent(text3)"
   ]
  },
  {
   "cell_type": "code",
   "execution_count": 98,
   "metadata": {},
   "outputs": [
    {
     "name": "stdout",
     "output_type": "stream",
     "text": [
      "['Labor']\n"
     ]
    }
   ],
   "source": [
    "check_independent(text1)"
   ]
  },
  {
   "cell_type": "code",
   "execution_count": 99,
   "metadata": {},
   "outputs": [
    {
     "name": "stdout",
     "output_type": "stream",
     "text": [
      "['Minor']\n"
     ]
    }
   ],
   "source": [
    "check_independent(text2)"
   ]
  },
  {
   "cell_type": "code",
   "execution_count": 102,
   "metadata": {},
   "outputs": [],
   "source": [
    "import pickle\n",
    "\n",
    "pickle.dump([model_dbow,logreg],open('word2vecworking1.pickle','wb'))"
   ]
  },
  {
   "cell_type": "code",
   "execution_count": null,
   "metadata": {},
   "outputs": [],
   "source": []
  }
 ],
 "metadata": {
  "hide_input": false,
  "kernelspec": {
   "display_name": "Python 3",
   "language": "python",
   "name": "python3"
  },
  "language_info": {
   "codemirror_mode": {
    "name": "ipython",
    "version": 3
   },
   "file_extension": ".py",
   "mimetype": "text/x-python",
   "name": "python",
   "nbconvert_exporter": "python",
   "pygments_lexer": "ipython3",
   "version": "3.7.4"
  },
  "toc": {
   "base_numbering": 1,
   "nav_menu": {},
   "number_sections": true,
   "sideBar": true,
   "skip_h1_title": false,
   "title_cell": "Table of Contents",
   "title_sidebar": "Contents",
   "toc_cell": false,
   "toc_position": {},
   "toc_section_display": true,
   "toc_window_display": false
  },
  "varInspector": {
   "cols": {
    "lenName": 16,
    "lenType": 16,
    "lenVar": 40
   },
   "kernels_config": {
    "python": {
     "delete_cmd_postfix": "",
     "delete_cmd_prefix": "del ",
     "library": "var_list.py",
     "varRefreshCmd": "print(var_dic_list())"
    },
    "r": {
     "delete_cmd_postfix": ") ",
     "delete_cmd_prefix": "rm(",
     "library": "var_list.r",
     "varRefreshCmd": "cat(var_dic_list()) "
    }
   },
   "types_to_exclude": [
    "module",
    "function",
    "builtin_function_or_method",
    "instance",
    "_Feature"
   ],
   "window_display": false
  }
 },
 "nbformat": 4,
 "nbformat_minor": 2
}
